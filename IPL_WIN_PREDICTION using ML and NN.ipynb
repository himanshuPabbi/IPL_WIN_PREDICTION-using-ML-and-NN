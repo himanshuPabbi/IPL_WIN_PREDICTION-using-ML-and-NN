{
 "cells": [
  {
   "cell_type": "code",
   "execution_count": 1,
   "id": "d971aff6",
   "metadata": {},
   "outputs": [],
   "source": [
    "import pandas as pd"
   ]
  },
  {
   "cell_type": "code",
   "execution_count": 2,
   "id": "6ece4bbb",
   "metadata": {},
   "outputs": [],
   "source": [
    "import numpy as np"
   ]
  },
  {
   "cell_type": "code",
   "execution_count": 3,
   "id": "82ab9cc8",
   "metadata": {},
   "outputs": [],
   "source": [
    "import seaborn as sns"
   ]
  },
  {
   "cell_type": "code",
   "execution_count": 4,
   "id": "47b0a6f7",
   "metadata": {},
   "outputs": [],
   "source": [
    "import matplotlib.pyplot as plt"
   ]
  },
  {
   "cell_type": "code",
   "execution_count": 5,
   "id": "9d2a9e34",
   "metadata": {},
   "outputs": [],
   "source": [
    "from sklearn.preprocessing import StandardScaler"
   ]
  },
  {
   "cell_type": "code",
   "execution_count": 6,
   "id": "c70004a8",
   "metadata": {},
   "outputs": [],
   "source": [
    "from sklearn.preprocessing import LabelEncoder"
   ]
  },
  {
   "cell_type": "code",
   "execution_count": 7,
   "id": "90cb5ae9",
   "metadata": {},
   "outputs": [],
   "source": [
    "from sklearn.model_selection import train_test_split,KFold,cross_val_score"
   ]
  },
  {
   "cell_type": "code",
   "execution_count": 8,
   "id": "45d015da",
   "metadata": {},
   "outputs": [],
   "source": [
    "from sklearn.ensemble import RandomForestClassifier"
   ]
  },
  {
   "cell_type": "code",
   "execution_count": 9,
   "id": "7bd5929e",
   "metadata": {},
   "outputs": [],
   "source": [
    "from sklearn.neighbors import KNeighborsClassifier"
   ]
  },
  {
   "cell_type": "code",
   "execution_count": 10,
   "id": "ecea1827",
   "metadata": {},
   "outputs": [],
   "source": [
    "import xgboost as xgb"
   ]
  },
  {
   "cell_type": "code",
   "execution_count": 11,
   "id": "8eb3edb0",
   "metadata": {},
   "outputs": [],
   "source": [
    "from sklearn.linear_model import LogisticRegression"
   ]
  },
  {
   "cell_type": "code",
   "execution_count": 12,
   "id": "85a2188a",
   "metadata": {},
   "outputs": [],
   "source": [
    "from sklearn.metrics import accuracy_score,confusion_matrix,classification_report"
   ]
  },
  {
   "cell_type": "code",
   "execution_count": 13,
   "id": "95f39b80",
   "metadata": {},
   "outputs": [],
   "source": [
    "import tensorflow as tf"
   ]
  },
  {
   "cell_type": "code",
   "execution_count": 14,
   "id": "6c285139",
   "metadata": {},
   "outputs": [],
   "source": [
    "from tensorflow import keras"
   ]
  },
  {
   "cell_type": "code",
   "execution_count": 15,
   "id": "19ac9a55",
   "metadata": {},
   "outputs": [],
   "source": [
    "df=pd.read_csv(\"IPLDATA.csv\")\n"
   ]
  },
  {
   "cell_type": "code",
   "execution_count": 16,
   "id": "c299d26e",
   "metadata": {},
   "outputs": [
    {
     "data": {
      "text/html": [
       "<div>\n",
       "<style scoped>\n",
       "    .dataframe tbody tr th:only-of-type {\n",
       "        vertical-align: middle;\n",
       "    }\n",
       "\n",
       "    .dataframe tbody tr th {\n",
       "        vertical-align: top;\n",
       "    }\n",
       "\n",
       "    .dataframe thead th {\n",
       "        text-align: right;\n",
       "    }\n",
       "</style>\n",
       "<table border=\"1\" class=\"dataframe\">\n",
       "  <thead>\n",
       "    <tr style=\"text-align: right;\">\n",
       "      <th></th>\n",
       "      <th>Unnamed: 0</th>\n",
       "      <th>batting_team</th>\n",
       "      <th>bowling_team</th>\n",
       "      <th>city</th>\n",
       "      <th>runs_left</th>\n",
       "      <th>balls_left</th>\n",
       "      <th>wickets_left</th>\n",
       "      <th>total_runs_x</th>\n",
       "      <th>cur_run_rate</th>\n",
       "      <th>req_run_rate</th>\n",
       "      <th>result</th>\n",
       "    </tr>\n",
       "  </thead>\n",
       "  <tbody>\n",
       "    <tr>\n",
       "      <th>0</th>\n",
       "      <td>0</td>\n",
       "      <td>Kolkata Knight Riders</td>\n",
       "      <td>Royal Challengers Bangalore</td>\n",
       "      <td>Bangalore</td>\n",
       "      <td>222</td>\n",
       "      <td>119</td>\n",
       "      <td>10</td>\n",
       "      <td>223</td>\n",
       "      <td>6.000000</td>\n",
       "      <td>11.193277</td>\n",
       "      <td>1</td>\n",
       "    </tr>\n",
       "    <tr>\n",
       "      <th>1</th>\n",
       "      <td>1</td>\n",
       "      <td>Kolkata Knight Riders</td>\n",
       "      <td>Royal Challengers Bangalore</td>\n",
       "      <td>Bangalore</td>\n",
       "      <td>222</td>\n",
       "      <td>118</td>\n",
       "      <td>10</td>\n",
       "      <td>223</td>\n",
       "      <td>3.000000</td>\n",
       "      <td>11.288136</td>\n",
       "      <td>1</td>\n",
       "    </tr>\n",
       "    <tr>\n",
       "      <th>2</th>\n",
       "      <td>2</td>\n",
       "      <td>Kolkata Knight Riders</td>\n",
       "      <td>Royal Challengers Bangalore</td>\n",
       "      <td>Bangalore</td>\n",
       "      <td>221</td>\n",
       "      <td>117</td>\n",
       "      <td>10</td>\n",
       "      <td>223</td>\n",
       "      <td>4.000000</td>\n",
       "      <td>11.333333</td>\n",
       "      <td>1</td>\n",
       "    </tr>\n",
       "    <tr>\n",
       "      <th>3</th>\n",
       "      <td>3</td>\n",
       "      <td>Kolkata Knight Riders</td>\n",
       "      <td>Royal Challengers Bangalore</td>\n",
       "      <td>Bangalore</td>\n",
       "      <td>221</td>\n",
       "      <td>116</td>\n",
       "      <td>10</td>\n",
       "      <td>223</td>\n",
       "      <td>3.000000</td>\n",
       "      <td>11.431034</td>\n",
       "      <td>1</td>\n",
       "    </tr>\n",
       "    <tr>\n",
       "      <th>4</th>\n",
       "      <td>4</td>\n",
       "      <td>Kolkata Knight Riders</td>\n",
       "      <td>Royal Challengers Bangalore</td>\n",
       "      <td>Bangalore</td>\n",
       "      <td>221</td>\n",
       "      <td>115</td>\n",
       "      <td>10</td>\n",
       "      <td>223</td>\n",
       "      <td>2.400000</td>\n",
       "      <td>11.530435</td>\n",
       "      <td>1</td>\n",
       "    </tr>\n",
       "    <tr>\n",
       "      <th>...</th>\n",
       "      <td>...</td>\n",
       "      <td>...</td>\n",
       "      <td>...</td>\n",
       "      <td>...</td>\n",
       "      <td>...</td>\n",
       "      <td>...</td>\n",
       "      <td>...</td>\n",
       "      <td>...</td>\n",
       "      <td>...</td>\n",
       "      <td>...</td>\n",
       "      <td>...</td>\n",
       "    </tr>\n",
       "    <tr>\n",
       "      <th>112117</th>\n",
       "      <td>114439</td>\n",
       "      <td>Royal Challengers Bangalore</td>\n",
       "      <td>Sunrisers Hyderabad</td>\n",
       "      <td>Bangalore</td>\n",
       "      <td>-191</td>\n",
       "      <td>5</td>\n",
       "      <td>-3</td>\n",
       "      <td>209</td>\n",
       "      <td>20.869565</td>\n",
       "      <td>-229.200000</td>\n",
       "      <td>0</td>\n",
       "    </tr>\n",
       "    <tr>\n",
       "      <th>112118</th>\n",
       "      <td>114440</td>\n",
       "      <td>Royal Challengers Bangalore</td>\n",
       "      <td>Sunrisers Hyderabad</td>\n",
       "      <td>Bangalore</td>\n",
       "      <td>-193</td>\n",
       "      <td>4</td>\n",
       "      <td>-3</td>\n",
       "      <td>209</td>\n",
       "      <td>20.793103</td>\n",
       "      <td>-289.500000</td>\n",
       "      <td>0</td>\n",
       "    </tr>\n",
       "    <tr>\n",
       "      <th>112119</th>\n",
       "      <td>114441</td>\n",
       "      <td>Royal Challengers Bangalore</td>\n",
       "      <td>Sunrisers Hyderabad</td>\n",
       "      <td>Bangalore</td>\n",
       "      <td>-193</td>\n",
       "      <td>3</td>\n",
       "      <td>-4</td>\n",
       "      <td>209</td>\n",
       "      <td>20.615385</td>\n",
       "      <td>-386.000000</td>\n",
       "      <td>0</td>\n",
       "    </tr>\n",
       "    <tr>\n",
       "      <th>112120</th>\n",
       "      <td>114442</td>\n",
       "      <td>Royal Challengers Bangalore</td>\n",
       "      <td>Sunrisers Hyderabad</td>\n",
       "      <td>Bangalore</td>\n",
       "      <td>-194</td>\n",
       "      <td>2</td>\n",
       "      <td>-4</td>\n",
       "      <td>209</td>\n",
       "      <td>20.491525</td>\n",
       "      <td>-582.000000</td>\n",
       "      <td>0</td>\n",
       "    </tr>\n",
       "    <tr>\n",
       "      <th>112121</th>\n",
       "      <td>114443</td>\n",
       "      <td>Royal Challengers Bangalore</td>\n",
       "      <td>Sunrisers Hyderabad</td>\n",
       "      <td>Bangalore</td>\n",
       "      <td>-195</td>\n",
       "      <td>1</td>\n",
       "      <td>-4</td>\n",
       "      <td>209</td>\n",
       "      <td>20.369748</td>\n",
       "      <td>-1170.000000</td>\n",
       "      <td>0</td>\n",
       "    </tr>\n",
       "  </tbody>\n",
       "</table>\n",
       "<p>112122 rows × 11 columns</p>\n",
       "</div>"
      ],
      "text/plain": [
       "        Unnamed: 0                 batting_team                 bowling_team  \\\n",
       "0                0        Kolkata Knight Riders  Royal Challengers Bangalore   \n",
       "1                1        Kolkata Knight Riders  Royal Challengers Bangalore   \n",
       "2                2        Kolkata Knight Riders  Royal Challengers Bangalore   \n",
       "3                3        Kolkata Knight Riders  Royal Challengers Bangalore   \n",
       "4                4        Kolkata Knight Riders  Royal Challengers Bangalore   \n",
       "...            ...                          ...                          ...   \n",
       "112117      114439  Royal Challengers Bangalore          Sunrisers Hyderabad   \n",
       "112118      114440  Royal Challengers Bangalore          Sunrisers Hyderabad   \n",
       "112119      114441  Royal Challengers Bangalore          Sunrisers Hyderabad   \n",
       "112120      114442  Royal Challengers Bangalore          Sunrisers Hyderabad   \n",
       "112121      114443  Royal Challengers Bangalore          Sunrisers Hyderabad   \n",
       "\n",
       "             city  runs_left  balls_left  wickets_left  total_runs_x  \\\n",
       "0       Bangalore        222         119            10           223   \n",
       "1       Bangalore        222         118            10           223   \n",
       "2       Bangalore        221         117            10           223   \n",
       "3       Bangalore        221         116            10           223   \n",
       "4       Bangalore        221         115            10           223   \n",
       "...           ...        ...         ...           ...           ...   \n",
       "112117  Bangalore       -191           5            -3           209   \n",
       "112118  Bangalore       -193           4            -3           209   \n",
       "112119  Bangalore       -193           3            -4           209   \n",
       "112120  Bangalore       -194           2            -4           209   \n",
       "112121  Bangalore       -195           1            -4           209   \n",
       "\n",
       "        cur_run_rate  req_run_rate  result  \n",
       "0           6.000000     11.193277       1  \n",
       "1           3.000000     11.288136       1  \n",
       "2           4.000000     11.333333       1  \n",
       "3           3.000000     11.431034       1  \n",
       "4           2.400000     11.530435       1  \n",
       "...              ...           ...     ...  \n",
       "112117     20.869565   -229.200000       0  \n",
       "112118     20.793103   -289.500000       0  \n",
       "112119     20.615385   -386.000000       0  \n",
       "112120     20.491525   -582.000000       0  \n",
       "112121     20.369748  -1170.000000       0  \n",
       "\n",
       "[112122 rows x 11 columns]"
      ]
     },
     "execution_count": 16,
     "metadata": {},
     "output_type": "execute_result"
    }
   ],
   "source": [
    "df"
   ]
  },
  {
   "cell_type": "code",
   "execution_count": 17,
   "id": "6919c394",
   "metadata": {},
   "outputs": [
    {
     "data": {
      "text/plain": [
       "Index(['Unnamed: 0', 'batting_team', 'bowling_team', 'city', 'runs_left',\n",
       "       'balls_left', 'wickets_left', 'total_runs_x', 'cur_run_rate',\n",
       "       'req_run_rate', 'result'],\n",
       "      dtype='object')"
      ]
     },
     "execution_count": 17,
     "metadata": {},
     "output_type": "execute_result"
    }
   ],
   "source": [
    "df.columns"
   ]
  },
  {
   "cell_type": "code",
   "execution_count": 18,
   "id": "f1923bd1",
   "metadata": {},
   "outputs": [],
   "source": [
    "df=df.drop(\"Unnamed: 0\",axis=1)\n"
   ]
  },
  {
   "cell_type": "code",
   "execution_count": 19,
   "id": "05bacc02",
   "metadata": {},
   "outputs": [
    {
     "data": {
      "text/plain": [
       "batting_team    0\n",
       "bowling_team    0\n",
       "city            0\n",
       "runs_left       0\n",
       "balls_left      0\n",
       "wickets_left    0\n",
       "total_runs_x    0\n",
       "cur_run_rate    0\n",
       "req_run_rate    0\n",
       "result          0\n",
       "dtype: int64"
      ]
     },
     "execution_count": 19,
     "metadata": {},
     "output_type": "execute_result"
    }
   ],
   "source": [
    "df.isnull().sum()"
   ]
  },
  {
   "cell_type": "code",
   "execution_count": 20,
   "id": "cac5db79",
   "metadata": {},
   "outputs": [
    {
     "name": "stdout",
     "output_type": "stream",
     "text": [
      "<class 'pandas.core.frame.DataFrame'>\n",
      "RangeIndex: 112122 entries, 0 to 112121\n",
      "Data columns (total 10 columns):\n",
      " #   Column        Non-Null Count   Dtype  \n",
      "---  ------        --------------   -----  \n",
      " 0   batting_team  112122 non-null  object \n",
      " 1   bowling_team  112122 non-null  object \n",
      " 2   city          112122 non-null  object \n",
      " 3   runs_left     112122 non-null  int64  \n",
      " 4   balls_left    112122 non-null  int64  \n",
      " 5   wickets_left  112122 non-null  int64  \n",
      " 6   total_runs_x  112122 non-null  int64  \n",
      " 7   cur_run_rate  112122 non-null  float64\n",
      " 8   req_run_rate  112122 non-null  float64\n",
      " 9   result        112122 non-null  int64  \n",
      "dtypes: float64(2), int64(5), object(3)\n",
      "memory usage: 8.6+ MB\n"
     ]
    }
   ],
   "source": [
    "df.info()"
   ]
  },
  {
   "cell_type": "code",
   "execution_count": 21,
   "id": "a1ef2123",
   "metadata": {},
   "outputs": [
    {
     "data": {
      "text/html": [
       "<div>\n",
       "<style scoped>\n",
       "    .dataframe tbody tr th:only-of-type {\n",
       "        vertical-align: middle;\n",
       "    }\n",
       "\n",
       "    .dataframe tbody tr th {\n",
       "        vertical-align: top;\n",
       "    }\n",
       "\n",
       "    .dataframe thead th {\n",
       "        text-align: right;\n",
       "    }\n",
       "</style>\n",
       "<table border=\"1\" class=\"dataframe\">\n",
       "  <thead>\n",
       "    <tr style=\"text-align: right;\">\n",
       "      <th></th>\n",
       "      <th>runs_left</th>\n",
       "      <th>balls_left</th>\n",
       "      <th>wickets_left</th>\n",
       "      <th>total_runs_x</th>\n",
       "      <th>cur_run_rate</th>\n",
       "      <th>req_run_rate</th>\n",
       "      <th>result</th>\n",
       "    </tr>\n",
       "  </thead>\n",
       "  <tbody>\n",
       "    <tr>\n",
       "      <th>count</th>\n",
       "      <td>112122.000000</td>\n",
       "      <td>112122.000000</td>\n",
       "      <td>112122.000000</td>\n",
       "      <td>112122.000000</td>\n",
       "      <td>112122.000000</td>\n",
       "      <td>112122.000000</td>\n",
       "      <td>112122.000000</td>\n",
       "    </tr>\n",
       "    <tr>\n",
       "      <th>mean</th>\n",
       "      <td>11.418196</td>\n",
       "      <td>61.634024</td>\n",
       "      <td>4.642862</td>\n",
       "      <td>162.892795</td>\n",
       "      <td>29.662098</td>\n",
       "      <td>-6.072669</td>\n",
       "      <td>0.414807</td>\n",
       "    </tr>\n",
       "    <tr>\n",
       "      <th>std</th>\n",
       "      <td>92.457503</td>\n",
       "      <td>33.873338</td>\n",
       "      <td>3.909942</td>\n",
       "      <td>28.827693</td>\n",
       "      <td>81.633785</td>\n",
       "      <td>56.832658</td>\n",
       "      <td>0.492691</td>\n",
       "    </tr>\n",
       "    <tr>\n",
       "      <th>min</th>\n",
       "      <td>-221.000000</td>\n",
       "      <td>-3.000000</td>\n",
       "      <td>-9.000000</td>\n",
       "      <td>68.000000</td>\n",
       "      <td>0.000000</td>\n",
       "      <td>-1326.000000</td>\n",
       "      <td>0.000000</td>\n",
       "    </tr>\n",
       "    <tr>\n",
       "      <th>25%</th>\n",
       "      <td>-64.000000</td>\n",
       "      <td>33.000000</td>\n",
       "      <td>2.000000</td>\n",
       "      <td>144.000000</td>\n",
       "      <td>7.148936</td>\n",
       "      <td>-6.000000</td>\n",
       "      <td>0.000000</td>\n",
       "    </tr>\n",
       "    <tr>\n",
       "      <th>50%</th>\n",
       "      <td>6.000000</td>\n",
       "      <td>62.000000</td>\n",
       "      <td>5.000000</td>\n",
       "      <td>164.000000</td>\n",
       "      <td>10.857143</td>\n",
       "      <td>4.276596</td>\n",
       "      <td>0.000000</td>\n",
       "    </tr>\n",
       "    <tr>\n",
       "      <th>75%</th>\n",
       "      <td>89.000000</td>\n",
       "      <td>91.000000</td>\n",
       "      <td>8.000000</td>\n",
       "      <td>184.000000</td>\n",
       "      <td>24.285714</td>\n",
       "      <td>9.176471</td>\n",
       "      <td>1.000000</td>\n",
       "    </tr>\n",
       "    <tr>\n",
       "      <th>max</th>\n",
       "      <td>246.000000</td>\n",
       "      <td>119.000000</td>\n",
       "      <td>10.000000</td>\n",
       "      <td>247.000000</td>\n",
       "      <td>2382.000000</td>\n",
       "      <td>1242.000000</td>\n",
       "      <td>1.000000</td>\n",
       "    </tr>\n",
       "  </tbody>\n",
       "</table>\n",
       "</div>"
      ],
      "text/plain": [
       "           runs_left     balls_left   wickets_left   total_runs_x  \\\n",
       "count  112122.000000  112122.000000  112122.000000  112122.000000   \n",
       "mean       11.418196      61.634024       4.642862     162.892795   \n",
       "std        92.457503      33.873338       3.909942      28.827693   \n",
       "min      -221.000000      -3.000000      -9.000000      68.000000   \n",
       "25%       -64.000000      33.000000       2.000000     144.000000   \n",
       "50%         6.000000      62.000000       5.000000     164.000000   \n",
       "75%        89.000000      91.000000       8.000000     184.000000   \n",
       "max       246.000000     119.000000      10.000000     247.000000   \n",
       "\n",
       "        cur_run_rate   req_run_rate         result  \n",
       "count  112122.000000  112122.000000  112122.000000  \n",
       "mean       29.662098      -6.072669       0.414807  \n",
       "std        81.633785      56.832658       0.492691  \n",
       "min         0.000000   -1326.000000       0.000000  \n",
       "25%         7.148936      -6.000000       0.000000  \n",
       "50%        10.857143       4.276596       0.000000  \n",
       "75%        24.285714       9.176471       1.000000  \n",
       "max      2382.000000    1242.000000       1.000000  "
      ]
     },
     "execution_count": 21,
     "metadata": {},
     "output_type": "execute_result"
    }
   ],
   "source": [
    "df.describe()"
   ]
  },
  {
   "cell_type": "code",
   "execution_count": 22,
   "id": "9f773a52",
   "metadata": {},
   "outputs": [
    {
     "name": "stderr",
     "output_type": "stream",
     "text": [
      "C:\\Users\\himanshu\\anaconda3\\lib\\site-packages\\seaborn\\_decorators.py:36: FutureWarning: Pass the following variable as a keyword arg: x. From version 0.12, the only valid positional argument will be `data`, and passing other arguments without an explicit keyword will result in an error or misinterpretation.\n",
      "  warnings.warn(\n"
     ]
    },
    {
     "data": {
      "text/plain": [
       "<AxesSubplot:xlabel='runs_left'>"
      ]
     },
     "execution_count": 22,
     "metadata": {},
     "output_type": "execute_result"
    },
    {
     "data": {
      "image/png": "[encoded data removed]",
      "text/plain": [
       "<Figure size 432x288 with 1 Axes>"
      ]
     },
     "metadata": {
      "needs_background": "light"
     },
     "output_type": "display_data"
    }
   ],
   "source": [
    "sns.boxplot(df['runs_left'])"
   ]
  },
  {
   "cell_type": "code",
   "execution_count": 23,
   "id": "9bfed799",
   "metadata": {},
   "outputs": [
    {
     "name": "stderr",
     "output_type": "stream",
     "text": [
      "C:\\Users\\himanshu\\anaconda3\\lib\\site-packages\\seaborn\\_decorators.py:36: FutureWarning: Pass the following variable as a keyword arg: x. From version 0.12, the only valid positional argument will be `data`, and passing other arguments without an explicit keyword will result in an error or misinterpretation.\n",
      "  warnings.warn(\n"
     ]
    },
    {
     "data": {
      "text/plain": [
       "<AxesSubplot:xlabel='balls_left'>"
      ]
     },
     "execution_count": 23,
     "metadata": {},
     "output_type": "execute_result"
    },
    {
     "data": {
      "image/png": "[encoded data removed]",
      "text/plain": [
       "<Figure size 432x288 with 1 Axes>"
      ]
     },
     "metadata": {
      "needs_background": "light"
     },
     "output_type": "display_data"
    }
   ],
   "source": [
    "sns.boxplot(df['balls_left'])"
   ]
  },
  {
   "cell_type": "code",
   "execution_count": 24,
   "id": "4111d85c",
   "metadata": {},
   "outputs": [
    {
     "name": "stderr",
     "output_type": "stream",
     "text": [
      "C:\\Users\\himanshu\\anaconda3\\lib\\site-packages\\seaborn\\_decorators.py:36: FutureWarning: Pass the following variable as a keyword arg: x. From version 0.12, the only valid positional argument will be `data`, and passing other arguments without an explicit keyword will result in an error or misinterpretation.\n",
      "  warnings.warn(\n"
     ]
    },
    {
     "data": {
      "text/plain": [
       "<AxesSubplot:xlabel='wickets_left'>"
      ]
     },
     "execution_count": 24,
     "metadata": {},
     "output_type": "execute_result"
    },
    {
     "data": {
      "image/png": "[encoded data removed]",
      "text/plain": [
       "<Figure size 432x288 with 1 Axes>"
      ]
     },
     "metadata": {
      "needs_background": "light"
     },
     "output_type": "display_data"
    }
   ],
   "source": [
    "sns.boxplot(df['wickets_left'])"
   ]
  },
  {
   "cell_type": "code",
   "execution_count": 25,
   "id": "642fd4a3",
   "metadata": {},
   "outputs": [],
   "source": [
    "q1=df['wickets_left'].quantile(0.25)"
   ]
  },
  {
   "cell_type": "code",
   "execution_count": 26,
   "id": "cee68d8a",
   "metadata": {},
   "outputs": [],
   "source": [
    "q3=df['wickets_left'].quantile(0.75)"
   ]
  },
  {
   "cell_type": "code",
   "execution_count": 27,
   "id": "b15813d1",
   "metadata": {},
   "outputs": [],
   "source": [
    "IQR=q3-q1"
   ]
  },
  {
   "cell_type": "code",
   "execution_count": 28,
   "id": "93ff7aef",
   "metadata": {},
   "outputs": [],
   "source": [
    "lower=q1-1.5*IQR"
   ]
  },
  {
   "cell_type": "code",
   "execution_count": 29,
   "id": "bdf47178",
   "metadata": {},
   "outputs": [],
   "source": [
    "upper=q3+1.5*IQR"
   ]
  },
  {
   "cell_type": "code",
   "execution_count": 30,
   "id": "bb501353",
   "metadata": {},
   "outputs": [],
   "source": [
    "df=df[(df['wickets_left']>lower) & (df['wickets_left']<upper)]"
   ]
  },
  {
   "cell_type": "code",
   "execution_count": 31,
   "id": "0e56408d",
   "metadata": {},
   "outputs": [
    {
     "data": {
      "text/html": [
       "<div>\n",
       "<style scoped>\n",
       "    .dataframe tbody tr th:only-of-type {\n",
       "        vertical-align: middle;\n",
       "    }\n",
       "\n",
       "    .dataframe tbody tr th {\n",
       "        vertical-align: top;\n",
       "    }\n",
       "\n",
       "    .dataframe thead th {\n",
       "        text-align: right;\n",
       "    }\n",
       "</style>\n",
       "<table border=\"1\" class=\"dataframe\">\n",
       "  <thead>\n",
       "    <tr style=\"text-align: right;\">\n",
       "      <th></th>\n",
       "      <th>batting_team</th>\n",
       "      <th>bowling_team</th>\n",
       "      <th>city</th>\n",
       "      <th>runs_left</th>\n",
       "      <th>balls_left</th>\n",
       "      <th>wickets_left</th>\n",
       "      <th>total_runs_x</th>\n",
       "      <th>cur_run_rate</th>\n",
       "      <th>req_run_rate</th>\n",
       "      <th>result</th>\n",
       "    </tr>\n",
       "  </thead>\n",
       "  <tbody>\n",
       "    <tr>\n",
       "      <th>0</th>\n",
       "      <td>Kolkata Knight Riders</td>\n",
       "      <td>Royal Challengers Bangalore</td>\n",
       "      <td>Bangalore</td>\n",
       "      <td>222</td>\n",
       "      <td>119</td>\n",
       "      <td>10</td>\n",
       "      <td>223</td>\n",
       "      <td>6.000000</td>\n",
       "      <td>11.193277</td>\n",
       "      <td>1</td>\n",
       "    </tr>\n",
       "    <tr>\n",
       "      <th>1</th>\n",
       "      <td>Kolkata Knight Riders</td>\n",
       "      <td>Royal Challengers Bangalore</td>\n",
       "      <td>Bangalore</td>\n",
       "      <td>222</td>\n",
       "      <td>118</td>\n",
       "      <td>10</td>\n",
       "      <td>223</td>\n",
       "      <td>3.000000</td>\n",
       "      <td>11.288136</td>\n",
       "      <td>1</td>\n",
       "    </tr>\n",
       "    <tr>\n",
       "      <th>2</th>\n",
       "      <td>Kolkata Knight Riders</td>\n",
       "      <td>Royal Challengers Bangalore</td>\n",
       "      <td>Bangalore</td>\n",
       "      <td>221</td>\n",
       "      <td>117</td>\n",
       "      <td>10</td>\n",
       "      <td>223</td>\n",
       "      <td>4.000000</td>\n",
       "      <td>11.333333</td>\n",
       "      <td>1</td>\n",
       "    </tr>\n",
       "    <tr>\n",
       "      <th>3</th>\n",
       "      <td>Kolkata Knight Riders</td>\n",
       "      <td>Royal Challengers Bangalore</td>\n",
       "      <td>Bangalore</td>\n",
       "      <td>221</td>\n",
       "      <td>116</td>\n",
       "      <td>10</td>\n",
       "      <td>223</td>\n",
       "      <td>3.000000</td>\n",
       "      <td>11.431034</td>\n",
       "      <td>1</td>\n",
       "    </tr>\n",
       "    <tr>\n",
       "      <th>4</th>\n",
       "      <td>Kolkata Knight Riders</td>\n",
       "      <td>Royal Challengers Bangalore</td>\n",
       "      <td>Bangalore</td>\n",
       "      <td>221</td>\n",
       "      <td>115</td>\n",
       "      <td>10</td>\n",
       "      <td>223</td>\n",
       "      <td>2.400000</td>\n",
       "      <td>11.530435</td>\n",
       "      <td>1</td>\n",
       "    </tr>\n",
       "    <tr>\n",
       "      <th>...</th>\n",
       "      <td>...</td>\n",
       "      <td>...</td>\n",
       "      <td>...</td>\n",
       "      <td>...</td>\n",
       "      <td>...</td>\n",
       "      <td>...</td>\n",
       "      <td>...</td>\n",
       "      <td>...</td>\n",
       "      <td>...</td>\n",
       "      <td>...</td>\n",
       "    </tr>\n",
       "    <tr>\n",
       "      <th>112117</th>\n",
       "      <td>Royal Challengers Bangalore</td>\n",
       "      <td>Sunrisers Hyderabad</td>\n",
       "      <td>Bangalore</td>\n",
       "      <td>-191</td>\n",
       "      <td>5</td>\n",
       "      <td>-3</td>\n",
       "      <td>209</td>\n",
       "      <td>20.869565</td>\n",
       "      <td>-229.200000</td>\n",
       "      <td>0</td>\n",
       "    </tr>\n",
       "    <tr>\n",
       "      <th>112118</th>\n",
       "      <td>Royal Challengers Bangalore</td>\n",
       "      <td>Sunrisers Hyderabad</td>\n",
       "      <td>Bangalore</td>\n",
       "      <td>-193</td>\n",
       "      <td>4</td>\n",
       "      <td>-3</td>\n",
       "      <td>209</td>\n",
       "      <td>20.793103</td>\n",
       "      <td>-289.500000</td>\n",
       "      <td>0</td>\n",
       "    </tr>\n",
       "    <tr>\n",
       "      <th>112119</th>\n",
       "      <td>Royal Challengers Bangalore</td>\n",
       "      <td>Sunrisers Hyderabad</td>\n",
       "      <td>Bangalore</td>\n",
       "      <td>-193</td>\n",
       "      <td>3</td>\n",
       "      <td>-4</td>\n",
       "      <td>209</td>\n",
       "      <td>20.615385</td>\n",
       "      <td>-386.000000</td>\n",
       "      <td>0</td>\n",
       "    </tr>\n",
       "    <tr>\n",
       "      <th>112120</th>\n",
       "      <td>Royal Challengers Bangalore</td>\n",
       "      <td>Sunrisers Hyderabad</td>\n",
       "      <td>Bangalore</td>\n",
       "      <td>-194</td>\n",
       "      <td>2</td>\n",
       "      <td>-4</td>\n",
       "      <td>209</td>\n",
       "      <td>20.491525</td>\n",
       "      <td>-582.000000</td>\n",
       "      <td>0</td>\n",
       "    </tr>\n",
       "    <tr>\n",
       "      <th>112121</th>\n",
       "      <td>Royal Challengers Bangalore</td>\n",
       "      <td>Sunrisers Hyderabad</td>\n",
       "      <td>Bangalore</td>\n",
       "      <td>-195</td>\n",
       "      <td>1</td>\n",
       "      <td>-4</td>\n",
       "      <td>209</td>\n",
       "      <td>20.369748</td>\n",
       "      <td>-1170.000000</td>\n",
       "      <td>0</td>\n",
       "    </tr>\n",
       "  </tbody>\n",
       "</table>\n",
       "<p>111861 rows × 10 columns</p>\n",
       "</div>"
      ],
      "text/plain": [
       "                       batting_team                 bowling_team       city  \\\n",
       "0             Kolkata Knight Riders  Royal Challengers Bangalore  Bangalore   \n",
       "1             Kolkata Knight Riders  Royal Challengers Bangalore  Bangalore   \n",
       "2             Kolkata Knight Riders  Royal Challengers Bangalore  Bangalore   \n",
       "3             Kolkata Knight Riders  Royal Challengers Bangalore  Bangalore   \n",
       "4             Kolkata Knight Riders  Royal Challengers Bangalore  Bangalore   \n",
       "...                             ...                          ...        ...   \n",
       "112117  Royal Challengers Bangalore          Sunrisers Hyderabad  Bangalore   \n",
       "112118  Royal Challengers Bangalore          Sunrisers Hyderabad  Bangalore   \n",
       "112119  Royal Challengers Bangalore          Sunrisers Hyderabad  Bangalore   \n",
       "112120  Royal Challengers Bangalore          Sunrisers Hyderabad  Bangalore   \n",
       "112121  Royal Challengers Bangalore          Sunrisers Hyderabad  Bangalore   \n",
       "\n",
       "        runs_left  balls_left  wickets_left  total_runs_x  cur_run_rate  \\\n",
       "0             222         119            10           223      6.000000   \n",
       "1             222         118            10           223      3.000000   \n",
       "2             221         117            10           223      4.000000   \n",
       "3             221         116            10           223      3.000000   \n",
       "4             221         115            10           223      2.400000   \n",
       "...           ...         ...           ...           ...           ...   \n",
       "112117       -191           5            -3           209     20.869565   \n",
       "112118       -193           4            -3           209     20.793103   \n",
       "112119       -193           3            -4           209     20.615385   \n",
       "112120       -194           2            -4           209     20.491525   \n",
       "112121       -195           1            -4           209     20.369748   \n",
       "\n",
       "        req_run_rate  result  \n",
       "0          11.193277       1  \n",
       "1          11.288136       1  \n",
       "2          11.333333       1  \n",
       "3          11.431034       1  \n",
       "4          11.530435       1  \n",
       "...              ...     ...  \n",
       "112117   -229.200000       0  \n",
       "112118   -289.500000       0  \n",
       "112119   -386.000000       0  \n",
       "112120   -582.000000       0  \n",
       "112121  -1170.000000       0  \n",
       "\n",
       "[111861 rows x 10 columns]"
      ]
     },
     "execution_count": 31,
     "metadata": {},
     "output_type": "execute_result"
    }
   ],
   "source": [
    "df"
   ]
  },
  {
   "cell_type": "code",
   "execution_count": 32,
   "id": "9d7993db",
   "metadata": {},
   "outputs": [
    {
     "name": "stderr",
     "output_type": "stream",
     "text": [
      "C:\\Users\\himanshu\\anaconda3\\lib\\site-packages\\seaborn\\_decorators.py:36: FutureWarning: Pass the following variable as a keyword arg: x. From version 0.12, the only valid positional argument will be `data`, and passing other arguments without an explicit keyword will result in an error or misinterpretation.\n",
      "  warnings.warn(\n"
     ]
    },
    {
     "data": {
      "text/plain": [
       "<AxesSubplot:xlabel='total_runs_x'>"
      ]
     },
     "execution_count": 32,
     "metadata": {},
     "output_type": "execute_result"
    },
    {
     "data": {
      "image/png": "[encoded data removed]",
      "text/plain": [
       "<Figure size 432x288 with 1 Axes>"
      ]
     },
     "metadata": {
      "needs_background": "light"
     },
     "output_type": "display_data"
    }
   ],
   "source": [
    "sns.boxplot(df['total_runs_x'])"
   ]
  },
  {
   "cell_type": "code",
   "execution_count": 33,
   "id": "09cd2f0c",
   "metadata": {},
   "outputs": [],
   "source": [
    "q1=df['total_runs_x'].quantile(0.25)"
   ]
  },
  {
   "cell_type": "code",
   "execution_count": 34,
   "id": "4714de07",
   "metadata": {},
   "outputs": [],
   "source": [
    "q3=df['total_runs_x'].quantile(0.75)"
   ]
  },
  {
   "cell_type": "code",
   "execution_count": 35,
   "id": "8790f624",
   "metadata": {},
   "outputs": [],
   "source": [
    "IQR=q3-q1"
   ]
  },
  {
   "cell_type": "code",
   "execution_count": 36,
   "id": "24b08207",
   "metadata": {},
   "outputs": [],
   "source": [
    "lower=q1-1.5*IQR"
   ]
  },
  {
   "cell_type": "code",
   "execution_count": 37,
   "id": "e3791f8c",
   "metadata": {},
   "outputs": [],
   "source": [
    "upper=q3+1.5*IQR"
   ]
  },
  {
   "cell_type": "code",
   "execution_count": 38,
   "id": "4d195d19",
   "metadata": {},
   "outputs": [],
   "source": [
    "df=df[(df['total_runs_x']>lower) & (df['total_runs_x']<upper)]"
   ]
  },
  {
   "cell_type": "code",
   "execution_count": 39,
   "id": "eb063279",
   "metadata": {},
   "outputs": [
    {
     "data": {
      "text/html": [
       "<div>\n",
       "<style scoped>\n",
       "    .dataframe tbody tr th:only-of-type {\n",
       "        vertical-align: middle;\n",
       "    }\n",
       "\n",
       "    .dataframe tbody tr th {\n",
       "        vertical-align: top;\n",
       "    }\n",
       "\n",
       "    .dataframe thead th {\n",
       "        text-align: right;\n",
       "    }\n",
       "</style>\n",
       "<table border=\"1\" class=\"dataframe\">\n",
       "  <thead>\n",
       "    <tr style=\"text-align: right;\">\n",
       "      <th></th>\n",
       "      <th>batting_team</th>\n",
       "      <th>bowling_team</th>\n",
       "      <th>city</th>\n",
       "      <th>runs_left</th>\n",
       "      <th>balls_left</th>\n",
       "      <th>wickets_left</th>\n",
       "      <th>total_runs_x</th>\n",
       "      <th>cur_run_rate</th>\n",
       "      <th>req_run_rate</th>\n",
       "      <th>result</th>\n",
       "    </tr>\n",
       "  </thead>\n",
       "  <tbody>\n",
       "    <tr>\n",
       "      <th>0</th>\n",
       "      <td>Kolkata Knight Riders</td>\n",
       "      <td>Royal Challengers Bangalore</td>\n",
       "      <td>Bangalore</td>\n",
       "      <td>222</td>\n",
       "      <td>119</td>\n",
       "      <td>10</td>\n",
       "      <td>223</td>\n",
       "      <td>6.000000</td>\n",
       "      <td>11.193277</td>\n",
       "      <td>1</td>\n",
       "    </tr>\n",
       "    <tr>\n",
       "      <th>1</th>\n",
       "      <td>Kolkata Knight Riders</td>\n",
       "      <td>Royal Challengers Bangalore</td>\n",
       "      <td>Bangalore</td>\n",
       "      <td>222</td>\n",
       "      <td>118</td>\n",
       "      <td>10</td>\n",
       "      <td>223</td>\n",
       "      <td>3.000000</td>\n",
       "      <td>11.288136</td>\n",
       "      <td>1</td>\n",
       "    </tr>\n",
       "    <tr>\n",
       "      <th>2</th>\n",
       "      <td>Kolkata Knight Riders</td>\n",
       "      <td>Royal Challengers Bangalore</td>\n",
       "      <td>Bangalore</td>\n",
       "      <td>221</td>\n",
       "      <td>117</td>\n",
       "      <td>10</td>\n",
       "      <td>223</td>\n",
       "      <td>4.000000</td>\n",
       "      <td>11.333333</td>\n",
       "      <td>1</td>\n",
       "    </tr>\n",
       "    <tr>\n",
       "      <th>3</th>\n",
       "      <td>Kolkata Knight Riders</td>\n",
       "      <td>Royal Challengers Bangalore</td>\n",
       "      <td>Bangalore</td>\n",
       "      <td>221</td>\n",
       "      <td>116</td>\n",
       "      <td>10</td>\n",
       "      <td>223</td>\n",
       "      <td>3.000000</td>\n",
       "      <td>11.431034</td>\n",
       "      <td>1</td>\n",
       "    </tr>\n",
       "    <tr>\n",
       "      <th>4</th>\n",
       "      <td>Kolkata Knight Riders</td>\n",
       "      <td>Royal Challengers Bangalore</td>\n",
       "      <td>Bangalore</td>\n",
       "      <td>221</td>\n",
       "      <td>115</td>\n",
       "      <td>10</td>\n",
       "      <td>223</td>\n",
       "      <td>2.400000</td>\n",
       "      <td>11.530435</td>\n",
       "      <td>1</td>\n",
       "    </tr>\n",
       "    <tr>\n",
       "      <th>...</th>\n",
       "      <td>...</td>\n",
       "      <td>...</td>\n",
       "      <td>...</td>\n",
       "      <td>...</td>\n",
       "      <td>...</td>\n",
       "      <td>...</td>\n",
       "      <td>...</td>\n",
       "      <td>...</td>\n",
       "      <td>...</td>\n",
       "      <td>...</td>\n",
       "    </tr>\n",
       "    <tr>\n",
       "      <th>112117</th>\n",
       "      <td>Royal Challengers Bangalore</td>\n",
       "      <td>Sunrisers Hyderabad</td>\n",
       "      <td>Bangalore</td>\n",
       "      <td>-191</td>\n",
       "      <td>5</td>\n",
       "      <td>-3</td>\n",
       "      <td>209</td>\n",
       "      <td>20.869565</td>\n",
       "      <td>-229.200000</td>\n",
       "      <td>0</td>\n",
       "    </tr>\n",
       "    <tr>\n",
       "      <th>112118</th>\n",
       "      <td>Royal Challengers Bangalore</td>\n",
       "      <td>Sunrisers Hyderabad</td>\n",
       "      <td>Bangalore</td>\n",
       "      <td>-193</td>\n",
       "      <td>4</td>\n",
       "      <td>-3</td>\n",
       "      <td>209</td>\n",
       "      <td>20.793103</td>\n",
       "      <td>-289.500000</td>\n",
       "      <td>0</td>\n",
       "    </tr>\n",
       "    <tr>\n",
       "      <th>112119</th>\n",
       "      <td>Royal Challengers Bangalore</td>\n",
       "      <td>Sunrisers Hyderabad</td>\n",
       "      <td>Bangalore</td>\n",
       "      <td>-193</td>\n",
       "      <td>3</td>\n",
       "      <td>-4</td>\n",
       "      <td>209</td>\n",
       "      <td>20.615385</td>\n",
       "      <td>-386.000000</td>\n",
       "      <td>0</td>\n",
       "    </tr>\n",
       "    <tr>\n",
       "      <th>112120</th>\n",
       "      <td>Royal Challengers Bangalore</td>\n",
       "      <td>Sunrisers Hyderabad</td>\n",
       "      <td>Bangalore</td>\n",
       "      <td>-194</td>\n",
       "      <td>2</td>\n",
       "      <td>-4</td>\n",
       "      <td>209</td>\n",
       "      <td>20.491525</td>\n",
       "      <td>-582.000000</td>\n",
       "      <td>0</td>\n",
       "    </tr>\n",
       "    <tr>\n",
       "      <th>112121</th>\n",
       "      <td>Royal Challengers Bangalore</td>\n",
       "      <td>Sunrisers Hyderabad</td>\n",
       "      <td>Bangalore</td>\n",
       "      <td>-195</td>\n",
       "      <td>1</td>\n",
       "      <td>-4</td>\n",
       "      <td>209</td>\n",
       "      <td>20.369748</td>\n",
       "      <td>-1170.000000</td>\n",
       "      <td>0</td>\n",
       "    </tr>\n",
       "  </tbody>\n",
       "</table>\n",
       "<p>110723 rows × 10 columns</p>\n",
       "</div>"
      ],
      "text/plain": [
       "                       batting_team                 bowling_team       city  \\\n",
       "0             Kolkata Knight Riders  Royal Challengers Bangalore  Bangalore   \n",
       "1             Kolkata Knight Riders  Royal Challengers Bangalore  Bangalore   \n",
       "2             Kolkata Knight Riders  Royal Challengers Bangalore  Bangalore   \n",
       "3             Kolkata Knight Riders  Royal Challengers Bangalore  Bangalore   \n",
       "4             Kolkata Knight Riders  Royal Challengers Bangalore  Bangalore   \n",
       "...                             ...                          ...        ...   \n",
       "112117  Royal Challengers Bangalore          Sunrisers Hyderabad  Bangalore   \n",
       "112118  Royal Challengers Bangalore          Sunrisers Hyderabad  Bangalore   \n",
       "112119  Royal Challengers Bangalore          Sunrisers Hyderabad  Bangalore   \n",
       "112120  Royal Challengers Bangalore          Sunrisers Hyderabad  Bangalore   \n",
       "112121  Royal Challengers Bangalore          Sunrisers Hyderabad  Bangalore   \n",
       "\n",
       "        runs_left  balls_left  wickets_left  total_runs_x  cur_run_rate  \\\n",
       "0             222         119            10           223      6.000000   \n",
       "1             222         118            10           223      3.000000   \n",
       "2             221         117            10           223      4.000000   \n",
       "3             221         116            10           223      3.000000   \n",
       "4             221         115            10           223      2.400000   \n",
       "...           ...         ...           ...           ...           ...   \n",
       "112117       -191           5            -3           209     20.869565   \n",
       "112118       -193           4            -3           209     20.793103   \n",
       "112119       -193           3            -4           209     20.615385   \n",
       "112120       -194           2            -4           209     20.491525   \n",
       "112121       -195           1            -4           209     20.369748   \n",
       "\n",
       "        req_run_rate  result  \n",
       "0          11.193277       1  \n",
       "1          11.288136       1  \n",
       "2          11.333333       1  \n",
       "3          11.431034       1  \n",
       "4          11.530435       1  \n",
       "...              ...     ...  \n",
       "112117   -229.200000       0  \n",
       "112118   -289.500000       0  \n",
       "112119   -386.000000       0  \n",
       "112120   -582.000000       0  \n",
       "112121  -1170.000000       0  \n",
       "\n",
       "[110723 rows x 10 columns]"
      ]
     },
     "execution_count": 39,
     "metadata": {},
     "output_type": "execute_result"
    }
   ],
   "source": [
    "df"
   ]
  },
  {
   "cell_type": "code",
   "execution_count": 40,
   "id": "f866a875",
   "metadata": {},
   "outputs": [
    {
     "name": "stderr",
     "output_type": "stream",
     "text": [
      "C:\\Users\\himanshu\\anaconda3\\lib\\site-packages\\seaborn\\_decorators.py:36: FutureWarning: Pass the following variable as a keyword arg: x. From version 0.12, the only valid positional argument will be `data`, and passing other arguments without an explicit keyword will result in an error or misinterpretation.\n",
      "  warnings.warn(\n"
     ]
    },
    {
     "data": {
      "text/plain": [
       "<AxesSubplot:xlabel='cur_run_rate'>"
      ]
     },
     "execution_count": 40,
     "metadata": {},
     "output_type": "execute_result"
    },
    {
     "data": {
      "image/png": "[encoded data removed]",
      "text/plain": [
       "<Figure size 432x288 with 1 Axes>"
      ]
     },
     "metadata": {
      "needs_background": "light"
     },
     "output_type": "display_data"
    }
   ],
   "source": [
    "sns.boxplot(df['cur_run_rate'])"
   ]
  },
  {
   "cell_type": "code",
   "execution_count": 41,
   "id": "349dd8b9",
   "metadata": {},
   "outputs": [],
   "source": [
    "q1=df['cur_run_rate'].quantile(0.25)"
   ]
  },
  {
   "cell_type": "code",
   "execution_count": 42,
   "id": "acd99298",
   "metadata": {},
   "outputs": [],
   "source": [
    "q3=df['cur_run_rate'].quantile(0.75)"
   ]
  },
  {
   "cell_type": "code",
   "execution_count": 43,
   "id": "ab3b919d",
   "metadata": {},
   "outputs": [],
   "source": [
    "IQR=q3-q1"
   ]
  },
  {
   "cell_type": "code",
   "execution_count": 44,
   "id": "8c4dc9df",
   "metadata": {},
   "outputs": [],
   "source": [
    "lower=q1-1.5*IQR"
   ]
  },
  {
   "cell_type": "code",
   "execution_count": 45,
   "id": "eeac545c",
   "metadata": {},
   "outputs": [],
   "source": [
    "upper=q3+1.5*IQR"
   ]
  },
  {
   "cell_type": "code",
   "execution_count": 46,
   "id": "75183fc1",
   "metadata": {},
   "outputs": [],
   "source": [
    "df=df[(df['cur_run_rate']>lower) & (df['cur_run_rate']<upper)]"
   ]
  },
  {
   "cell_type": "code",
   "execution_count": 47,
   "id": "0f7a64f1",
   "metadata": {},
   "outputs": [
    {
     "data": {
      "text/html": [
       "<div>\n",
       "<style scoped>\n",
       "    .dataframe tbody tr th:only-of-type {\n",
       "        vertical-align: middle;\n",
       "    }\n",
       "\n",
       "    .dataframe tbody tr th {\n",
       "        vertical-align: top;\n",
       "    }\n",
       "\n",
       "    .dataframe thead th {\n",
       "        text-align: right;\n",
       "    }\n",
       "</style>\n",
       "<table border=\"1\" class=\"dataframe\">\n",
       "  <thead>\n",
       "    <tr style=\"text-align: right;\">\n",
       "      <th></th>\n",
       "      <th>batting_team</th>\n",
       "      <th>bowling_team</th>\n",
       "      <th>city</th>\n",
       "      <th>runs_left</th>\n",
       "      <th>balls_left</th>\n",
       "      <th>wickets_left</th>\n",
       "      <th>total_runs_x</th>\n",
       "      <th>cur_run_rate</th>\n",
       "      <th>req_run_rate</th>\n",
       "      <th>result</th>\n",
       "    </tr>\n",
       "  </thead>\n",
       "  <tbody>\n",
       "    <tr>\n",
       "      <th>0</th>\n",
       "      <td>Kolkata Knight Riders</td>\n",
       "      <td>Royal Challengers Bangalore</td>\n",
       "      <td>Bangalore</td>\n",
       "      <td>222</td>\n",
       "      <td>119</td>\n",
       "      <td>10</td>\n",
       "      <td>223</td>\n",
       "      <td>6.000000</td>\n",
       "      <td>11.193277</td>\n",
       "      <td>1</td>\n",
       "    </tr>\n",
       "    <tr>\n",
       "      <th>1</th>\n",
       "      <td>Kolkata Knight Riders</td>\n",
       "      <td>Royal Challengers Bangalore</td>\n",
       "      <td>Bangalore</td>\n",
       "      <td>222</td>\n",
       "      <td>118</td>\n",
       "      <td>10</td>\n",
       "      <td>223</td>\n",
       "      <td>3.000000</td>\n",
       "      <td>11.288136</td>\n",
       "      <td>1</td>\n",
       "    </tr>\n",
       "    <tr>\n",
       "      <th>2</th>\n",
       "      <td>Kolkata Knight Riders</td>\n",
       "      <td>Royal Challengers Bangalore</td>\n",
       "      <td>Bangalore</td>\n",
       "      <td>221</td>\n",
       "      <td>117</td>\n",
       "      <td>10</td>\n",
       "      <td>223</td>\n",
       "      <td>4.000000</td>\n",
       "      <td>11.333333</td>\n",
       "      <td>1</td>\n",
       "    </tr>\n",
       "    <tr>\n",
       "      <th>3</th>\n",
       "      <td>Kolkata Knight Riders</td>\n",
       "      <td>Royal Challengers Bangalore</td>\n",
       "      <td>Bangalore</td>\n",
       "      <td>221</td>\n",
       "      <td>116</td>\n",
       "      <td>10</td>\n",
       "      <td>223</td>\n",
       "      <td>3.000000</td>\n",
       "      <td>11.431034</td>\n",
       "      <td>1</td>\n",
       "    </tr>\n",
       "    <tr>\n",
       "      <th>4</th>\n",
       "      <td>Kolkata Knight Riders</td>\n",
       "      <td>Royal Challengers Bangalore</td>\n",
       "      <td>Bangalore</td>\n",
       "      <td>221</td>\n",
       "      <td>115</td>\n",
       "      <td>10</td>\n",
       "      <td>223</td>\n",
       "      <td>2.400000</td>\n",
       "      <td>11.530435</td>\n",
       "      <td>1</td>\n",
       "    </tr>\n",
       "    <tr>\n",
       "      <th>...</th>\n",
       "      <td>...</td>\n",
       "      <td>...</td>\n",
       "      <td>...</td>\n",
       "      <td>...</td>\n",
       "      <td>...</td>\n",
       "      <td>...</td>\n",
       "      <td>...</td>\n",
       "      <td>...</td>\n",
       "      <td>...</td>\n",
       "      <td>...</td>\n",
       "    </tr>\n",
       "    <tr>\n",
       "      <th>112117</th>\n",
       "      <td>Royal Challengers Bangalore</td>\n",
       "      <td>Sunrisers Hyderabad</td>\n",
       "      <td>Bangalore</td>\n",
       "      <td>-191</td>\n",
       "      <td>5</td>\n",
       "      <td>-3</td>\n",
       "      <td>209</td>\n",
       "      <td>20.869565</td>\n",
       "      <td>-229.200000</td>\n",
       "      <td>0</td>\n",
       "    </tr>\n",
       "    <tr>\n",
       "      <th>112118</th>\n",
       "      <td>Royal Challengers Bangalore</td>\n",
       "      <td>Sunrisers Hyderabad</td>\n",
       "      <td>Bangalore</td>\n",
       "      <td>-193</td>\n",
       "      <td>4</td>\n",
       "      <td>-3</td>\n",
       "      <td>209</td>\n",
       "      <td>20.793103</td>\n",
       "      <td>-289.500000</td>\n",
       "      <td>0</td>\n",
       "    </tr>\n",
       "    <tr>\n",
       "      <th>112119</th>\n",
       "      <td>Royal Challengers Bangalore</td>\n",
       "      <td>Sunrisers Hyderabad</td>\n",
       "      <td>Bangalore</td>\n",
       "      <td>-193</td>\n",
       "      <td>3</td>\n",
       "      <td>-4</td>\n",
       "      <td>209</td>\n",
       "      <td>20.615385</td>\n",
       "      <td>-386.000000</td>\n",
       "      <td>0</td>\n",
       "    </tr>\n",
       "    <tr>\n",
       "      <th>112120</th>\n",
       "      <td>Royal Challengers Bangalore</td>\n",
       "      <td>Sunrisers Hyderabad</td>\n",
       "      <td>Bangalore</td>\n",
       "      <td>-194</td>\n",
       "      <td>2</td>\n",
       "      <td>-4</td>\n",
       "      <td>209</td>\n",
       "      <td>20.491525</td>\n",
       "      <td>-582.000000</td>\n",
       "      <td>0</td>\n",
       "    </tr>\n",
       "    <tr>\n",
       "      <th>112121</th>\n",
       "      <td>Royal Challengers Bangalore</td>\n",
       "      <td>Sunrisers Hyderabad</td>\n",
       "      <td>Bangalore</td>\n",
       "      <td>-195</td>\n",
       "      <td>1</td>\n",
       "      <td>-4</td>\n",
       "      <td>209</td>\n",
       "      <td>20.369748</td>\n",
       "      <td>-1170.000000</td>\n",
       "      <td>0</td>\n",
       "    </tr>\n",
       "  </tbody>\n",
       "</table>\n",
       "<p>99979 rows × 10 columns</p>\n",
       "</div>"
      ],
      "text/plain": [
       "                       batting_team                 bowling_team       city  \\\n",
       "0             Kolkata Knight Riders  Royal Challengers Bangalore  Bangalore   \n",
       "1             Kolkata Knight Riders  Royal Challengers Bangalore  Bangalore   \n",
       "2             Kolkata Knight Riders  Royal Challengers Bangalore  Bangalore   \n",
       "3             Kolkata Knight Riders  Royal Challengers Bangalore  Bangalore   \n",
       "4             Kolkata Knight Riders  Royal Challengers Bangalore  Bangalore   \n",
       "...                             ...                          ...        ...   \n",
       "112117  Royal Challengers Bangalore          Sunrisers Hyderabad  Bangalore   \n",
       "112118  Royal Challengers Bangalore          Sunrisers Hyderabad  Bangalore   \n",
       "112119  Royal Challengers Bangalore          Sunrisers Hyderabad  Bangalore   \n",
       "112120  Royal Challengers Bangalore          Sunrisers Hyderabad  Bangalore   \n",
       "112121  Royal Challengers Bangalore          Sunrisers Hyderabad  Bangalore   \n",
       "\n",
       "        runs_left  balls_left  wickets_left  total_runs_x  cur_run_rate  \\\n",
       "0             222         119            10           223      6.000000   \n",
       "1             222         118            10           223      3.000000   \n",
       "2             221         117            10           223      4.000000   \n",
       "3             221         116            10           223      3.000000   \n",
       "4             221         115            10           223      2.400000   \n",
       "...           ...         ...           ...           ...           ...   \n",
       "112117       -191           5            -3           209     20.869565   \n",
       "112118       -193           4            -3           209     20.793103   \n",
       "112119       -193           3            -4           209     20.615385   \n",
       "112120       -194           2            -4           209     20.491525   \n",
       "112121       -195           1            -4           209     20.369748   \n",
       "\n",
       "        req_run_rate  result  \n",
       "0          11.193277       1  \n",
       "1          11.288136       1  \n",
       "2          11.333333       1  \n",
       "3          11.431034       1  \n",
       "4          11.530435       1  \n",
       "...              ...     ...  \n",
       "112117   -229.200000       0  \n",
       "112118   -289.500000       0  \n",
       "112119   -386.000000       0  \n",
       "112120   -582.000000       0  \n",
       "112121  -1170.000000       0  \n",
       "\n",
       "[99979 rows x 10 columns]"
      ]
     },
     "execution_count": 47,
     "metadata": {},
     "output_type": "execute_result"
    }
   ],
   "source": [
    "df"
   ]
  },
  {
   "cell_type": "code",
   "execution_count": 48,
   "id": "696782ac",
   "metadata": {},
   "outputs": [
    {
     "name": "stderr",
     "output_type": "stream",
     "text": [
      "C:\\Users\\himanshu\\anaconda3\\lib\\site-packages\\seaborn\\_decorators.py:36: FutureWarning: Pass the following variable as a keyword arg: x. From version 0.12, the only valid positional argument will be `data`, and passing other arguments without an explicit keyword will result in an error or misinterpretation.\n",
      "  warnings.warn(\n"
     ]
    },
    {
     "data": {
      "text/plain": [
       "<AxesSubplot:xlabel='req_run_rate'>"
      ]
     },
     "execution_count": 48,
     "metadata": {},
     "output_type": "execute_result"
    },
    {
     "data": {
      "image/png": "[encoded data removed]",
      "text/plain": [
       "<Figure size 432x288 with 1 Axes>"
      ]
     },
     "metadata": {
      "needs_background": "light"
     },
     "output_type": "display_data"
    }
   ],
   "source": [
    "sns.boxplot(df['req_run_rate'])"
   ]
  },
  {
   "cell_type": "code",
   "execution_count": 49,
   "id": "3b8911b1",
   "metadata": {},
   "outputs": [],
   "source": [
    "q1=df['req_run_rate'].quantile(0.25)"
   ]
  },
  {
   "cell_type": "code",
   "execution_count": 50,
   "id": "1b330209",
   "metadata": {},
   "outputs": [],
   "source": [
    "q3=df['req_run_rate'].quantile(0.75)"
   ]
  },
  {
   "cell_type": "code",
   "execution_count": 51,
   "id": "d183e567",
   "metadata": {},
   "outputs": [],
   "source": [
    "IQR=q3-q1"
   ]
  },
  {
   "cell_type": "code",
   "execution_count": 52,
   "id": "15e65575",
   "metadata": {},
   "outputs": [],
   "source": [
    "lower=q1-1.5*IQR"
   ]
  },
  {
   "cell_type": "code",
   "execution_count": 53,
   "id": "02380e70",
   "metadata": {},
   "outputs": [],
   "source": [
    "upper=q3+1.5*IQR"
   ]
  },
  {
   "cell_type": "code",
   "execution_count": 54,
   "id": "40c7500b",
   "metadata": {},
   "outputs": [],
   "source": [
    "df=df[(df['req_run_rate']>lower) & (df['req_run_rate']<upper)]"
   ]
  },
  {
   "cell_type": "code",
   "execution_count": 55,
   "id": "924411ab",
   "metadata": {},
   "outputs": [
    {
     "data": {
      "text/html": [
       "<div>\n",
       "<style scoped>\n",
       "    .dataframe tbody tr th:only-of-type {\n",
       "        vertical-align: middle;\n",
       "    }\n",
       "\n",
       "    .dataframe tbody tr th {\n",
       "        vertical-align: top;\n",
       "    }\n",
       "\n",
       "    .dataframe thead th {\n",
       "        text-align: right;\n",
       "    }\n",
       "</style>\n",
       "<table border=\"1\" class=\"dataframe\">\n",
       "  <thead>\n",
       "    <tr style=\"text-align: right;\">\n",
       "      <th></th>\n",
       "      <th>batting_team</th>\n",
       "      <th>bowling_team</th>\n",
       "      <th>city</th>\n",
       "      <th>runs_left</th>\n",
       "      <th>balls_left</th>\n",
       "      <th>wickets_left</th>\n",
       "      <th>total_runs_x</th>\n",
       "      <th>cur_run_rate</th>\n",
       "      <th>req_run_rate</th>\n",
       "      <th>result</th>\n",
       "    </tr>\n",
       "  </thead>\n",
       "  <tbody>\n",
       "    <tr>\n",
       "      <th>0</th>\n",
       "      <td>Kolkata Knight Riders</td>\n",
       "      <td>Royal Challengers Bangalore</td>\n",
       "      <td>Bangalore</td>\n",
       "      <td>222</td>\n",
       "      <td>119</td>\n",
       "      <td>10</td>\n",
       "      <td>223</td>\n",
       "      <td>6.000000</td>\n",
       "      <td>11.193277</td>\n",
       "      <td>1</td>\n",
       "    </tr>\n",
       "    <tr>\n",
       "      <th>1</th>\n",
       "      <td>Kolkata Knight Riders</td>\n",
       "      <td>Royal Challengers Bangalore</td>\n",
       "      <td>Bangalore</td>\n",
       "      <td>222</td>\n",
       "      <td>118</td>\n",
       "      <td>10</td>\n",
       "      <td>223</td>\n",
       "      <td>3.000000</td>\n",
       "      <td>11.288136</td>\n",
       "      <td>1</td>\n",
       "    </tr>\n",
       "    <tr>\n",
       "      <th>2</th>\n",
       "      <td>Kolkata Knight Riders</td>\n",
       "      <td>Royal Challengers Bangalore</td>\n",
       "      <td>Bangalore</td>\n",
       "      <td>221</td>\n",
       "      <td>117</td>\n",
       "      <td>10</td>\n",
       "      <td>223</td>\n",
       "      <td>4.000000</td>\n",
       "      <td>11.333333</td>\n",
       "      <td>1</td>\n",
       "    </tr>\n",
       "    <tr>\n",
       "      <th>3</th>\n",
       "      <td>Kolkata Knight Riders</td>\n",
       "      <td>Royal Challengers Bangalore</td>\n",
       "      <td>Bangalore</td>\n",
       "      <td>221</td>\n",
       "      <td>116</td>\n",
       "      <td>10</td>\n",
       "      <td>223</td>\n",
       "      <td>3.000000</td>\n",
       "      <td>11.431034</td>\n",
       "      <td>1</td>\n",
       "    </tr>\n",
       "    <tr>\n",
       "      <th>4</th>\n",
       "      <td>Kolkata Knight Riders</td>\n",
       "      <td>Royal Challengers Bangalore</td>\n",
       "      <td>Bangalore</td>\n",
       "      <td>221</td>\n",
       "      <td>115</td>\n",
       "      <td>10</td>\n",
       "      <td>223</td>\n",
       "      <td>2.400000</td>\n",
       "      <td>11.530435</td>\n",
       "      <td>1</td>\n",
       "    </tr>\n",
       "    <tr>\n",
       "      <th>...</th>\n",
       "      <td>...</td>\n",
       "      <td>...</td>\n",
       "      <td>...</td>\n",
       "      <td>...</td>\n",
       "      <td>...</td>\n",
       "      <td>...</td>\n",
       "      <td>...</td>\n",
       "      <td>...</td>\n",
       "      <td>...</td>\n",
       "      <td>...</td>\n",
       "    </tr>\n",
       "    <tr>\n",
       "      <th>112088</th>\n",
       "      <td>Royal Challengers Bangalore</td>\n",
       "      <td>Sunrisers Hyderabad</td>\n",
       "      <td>Bangalore</td>\n",
       "      <td>-150</td>\n",
       "      <td>34</td>\n",
       "      <td>0</td>\n",
       "      <td>209</td>\n",
       "      <td>25.046512</td>\n",
       "      <td>-26.470588</td>\n",
       "      <td>0</td>\n",
       "    </tr>\n",
       "    <tr>\n",
       "      <th>112089</th>\n",
       "      <td>Royal Challengers Bangalore</td>\n",
       "      <td>Sunrisers Hyderabad</td>\n",
       "      <td>Bangalore</td>\n",
       "      <td>-151</td>\n",
       "      <td>33</td>\n",
       "      <td>0</td>\n",
       "      <td>209</td>\n",
       "      <td>24.827586</td>\n",
       "      <td>-27.454545</td>\n",
       "      <td>0</td>\n",
       "    </tr>\n",
       "    <tr>\n",
       "      <th>112090</th>\n",
       "      <td>Royal Challengers Bangalore</td>\n",
       "      <td>Sunrisers Hyderabad</td>\n",
       "      <td>Bangalore</td>\n",
       "      <td>-151</td>\n",
       "      <td>32</td>\n",
       "      <td>0</td>\n",
       "      <td>209</td>\n",
       "      <td>24.545455</td>\n",
       "      <td>-28.312500</td>\n",
       "      <td>0</td>\n",
       "    </tr>\n",
       "    <tr>\n",
       "      <th>112091</th>\n",
       "      <td>Royal Challengers Bangalore</td>\n",
       "      <td>Sunrisers Hyderabad</td>\n",
       "      <td>Bangalore</td>\n",
       "      <td>-157</td>\n",
       "      <td>31</td>\n",
       "      <td>0</td>\n",
       "      <td>209</td>\n",
       "      <td>24.674157</td>\n",
       "      <td>-30.387097</td>\n",
       "      <td>0</td>\n",
       "    </tr>\n",
       "    <tr>\n",
       "      <th>112092</th>\n",
       "      <td>Royal Challengers Bangalore</td>\n",
       "      <td>Sunrisers Hyderabad</td>\n",
       "      <td>Bangalore</td>\n",
       "      <td>-157</td>\n",
       "      <td>30</td>\n",
       "      <td>0</td>\n",
       "      <td>209</td>\n",
       "      <td>24.400000</td>\n",
       "      <td>-31.400000</td>\n",
       "      <td>0</td>\n",
       "    </tr>\n",
       "  </tbody>\n",
       "</table>\n",
       "<p>92001 rows × 10 columns</p>\n",
       "</div>"
      ],
      "text/plain": [
       "                       batting_team                 bowling_team       city  \\\n",
       "0             Kolkata Knight Riders  Royal Challengers Bangalore  Bangalore   \n",
       "1             Kolkata Knight Riders  Royal Challengers Bangalore  Bangalore   \n",
       "2             Kolkata Knight Riders  Royal Challengers Bangalore  Bangalore   \n",
       "3             Kolkata Knight Riders  Royal Challengers Bangalore  Bangalore   \n",
       "4             Kolkata Knight Riders  Royal Challengers Bangalore  Bangalore   \n",
       "...                             ...                          ...        ...   \n",
       "112088  Royal Challengers Bangalore          Sunrisers Hyderabad  Bangalore   \n",
       "112089  Royal Challengers Bangalore          Sunrisers Hyderabad  Bangalore   \n",
       "112090  Royal Challengers Bangalore          Sunrisers Hyderabad  Bangalore   \n",
       "112091  Royal Challengers Bangalore          Sunrisers Hyderabad  Bangalore   \n",
       "112092  Royal Challengers Bangalore          Sunrisers Hyderabad  Bangalore   \n",
       "\n",
       "        runs_left  balls_left  wickets_left  total_runs_x  cur_run_rate  \\\n",
       "0             222         119            10           223      6.000000   \n",
       "1             222         118            10           223      3.000000   \n",
       "2             221         117            10           223      4.000000   \n",
       "3             221         116            10           223      3.000000   \n",
       "4             221         115            10           223      2.400000   \n",
       "...           ...         ...           ...           ...           ...   \n",
       "112088       -150          34             0           209     25.046512   \n",
       "112089       -151          33             0           209     24.827586   \n",
       "112090       -151          32             0           209     24.545455   \n",
       "112091       -157          31             0           209     24.674157   \n",
       "112092       -157          30             0           209     24.400000   \n",
       "\n",
       "        req_run_rate  result  \n",
       "0          11.193277       1  \n",
       "1          11.288136       1  \n",
       "2          11.333333       1  \n",
       "3          11.431034       1  \n",
       "4          11.530435       1  \n",
       "...              ...     ...  \n",
       "112088    -26.470588       0  \n",
       "112089    -27.454545       0  \n",
       "112090    -28.312500       0  \n",
       "112091    -30.387097       0  \n",
       "112092    -31.400000       0  \n",
       "\n",
       "[92001 rows x 10 columns]"
      ]
     },
     "execution_count": 55,
     "metadata": {},
     "output_type": "execute_result"
    }
   ],
   "source": [
    "df"
   ]
  },
  {
   "cell_type": "code",
   "execution_count": 56,
   "id": "318617e3",
   "metadata": {},
   "outputs": [
    {
     "data": {
      "image/png": "[encoded data removed]",
      "text/plain": [
       "<Figure size 432x288 with 1 Axes>"
      ]
     },
     "metadata": {
      "needs_background": "light"
     },
     "output_type": "display_data"
    }
   ],
   "source": [
    "sns.countplot(x=df['city'],hue=df['result'])\n",
    "plt.xticks(rotation=90)\n",
    "plt.show()"
   ]
  },
  {
   "cell_type": "code",
   "execution_count": 57,
   "id": "571ccb12",
   "metadata": {},
   "outputs": [
    {
     "data": {
      "image/png": "[encoded data removed]",
      "text/plain": [
       "<Figure size 432x288 with 1 Axes>"
      ]
     },
     "metadata": {
      "needs_background": "light"
     },
     "output_type": "display_data"
    }
   ],
   "source": [
    "sns.countplot(x=df['batting_team'],hue=df['result'])\n",
    "plt.xticks(rotation=90)\n",
    "plt.show()"
   ]
  },
  {
   "cell_type": "code",
   "execution_count": 58,
   "id": "fb813ad6",
   "metadata": {},
   "outputs": [
    {
     "data": {
      "image/png": "[encoded data removed]",
      "text/plain": [
       "<Figure size 432x288 with 1 Axes>"
      ]
     },
     "metadata": {
      "needs_background": "light"
     },
     "output_type": "display_data"
    }
   ],
   "source": [
    "sns.countplot(x=df['bowling_team'],hue=df['result'])\n",
    "plt.xticks(rotation=90)\n",
    "plt.show()"
   ]
  },
  {
   "cell_type": "code",
   "execution_count": 59,
   "id": "8dc50366",
   "metadata": {},
   "outputs": [
    {
     "data": {
      "text/plain": [
       "<AxesSubplot:xlabel='result', ylabel='cur_run_rate'>"
      ]
     },
     "execution_count": 59,
     "metadata": {},
     "output_type": "execute_result"
    },
    {
     "data": {
      "image/png": "[encoded data removed]",
      "text/plain": [
       "<Figure size 432x288 with 1 Axes>"
      ]
     },
     "metadata": {
      "needs_background": "light"
     },
     "output_type": "display_data"
    }
   ],
   "source": [
    "sns.barplot(x=df['result'],y=df['cur_run_rate'])"
   ]
  },
  {
   "cell_type": "code",
   "execution_count": 60,
   "id": "82d5c6e8",
   "metadata": {},
   "outputs": [
    {
     "data": {
      "text/plain": [
       "<AxesSubplot:xlabel='result', ylabel='req_run_rate'>"
      ]
     },
     "execution_count": 60,
     "metadata": {},
     "output_type": "execute_result"
    },
    {
     "data": {
      "image/png": "[encoded data removed]",
      "text/plain": [
       "<Figure size 432x288 with 1 Axes>"
      ]
     },
     "metadata": {
      "needs_background": "light"
     },
     "output_type": "display_data"
    }
   ],
   "source": [
    "sns.barplot(x=df['result'],y=df['req_run_rate'])"
   ]
  },
  {
   "cell_type": "code",
   "execution_count": 61,
   "id": "8a6b6eaa",
   "metadata": {},
   "outputs": [
    {
     "data": {
      "text/plain": [
       "<AxesSubplot:xlabel='result', ylabel='total_runs_x'>"
      ]
     },
     "execution_count": 61,
     "metadata": {},
     "output_type": "execute_result"
    },
    {
     "data": {
      "image/png": "[encoded data removed]",
      "text/plain": [
       "<Figure size 432x288 with 1 Axes>"
      ]
     },
     "metadata": {
      "needs_background": "light"
     },
     "output_type": "display_data"
    }
   ],
   "source": [
    "sns.barplot(x=df['result'],y=df['total_runs_x'])"
   ]
  },
  {
   "cell_type": "code",
   "execution_count": 62,
   "id": "90299eca",
   "metadata": {},
   "outputs": [
    {
     "data": {
      "text/plain": [
       "<AxesSubplot:xlabel='result', ylabel='wickets_left'>"
      ]
     },
     "execution_count": 62,
     "metadata": {},
     "output_type": "execute_result"
    },
    {
     "data": {
      "image/png": "[encoded data removed]",
      "text/plain": [
       "<Figure size 432x288 with 1 Axes>"
      ]
     },
     "metadata": {
      "needs_background": "light"
     },
     "output_type": "display_data"
    }
   ],
   "source": [
    "sns.barplot(x=df['result'],y=df['wickets_left'])"
   ]
  },
  {
   "cell_type": "code",
   "execution_count": 63,
   "id": "1e2b046b",
   "metadata": {},
   "outputs": [
    {
     "data": {
      "text/plain": [
       "<AxesSubplot:xlabel='result', ylabel='balls_left'>"
      ]
     },
     "execution_count": 63,
     "metadata": {},
     "output_type": "execute_result"
    },
    {
     "data": {
      "image/png": "[encoded data removed]",
      "text/plain": [
       "<Figure size 432x288 with 1 Axes>"
      ]
     },
     "metadata": {
      "needs_background": "light"
     },
     "output_type": "display_data"
    }
   ],
   "source": [
    "sns.barplot(x=df['result'],y=df['balls_left'])"
   ]
  },
  {
   "cell_type": "code",
   "execution_count": 64,
   "id": "cd108b86",
   "metadata": {},
   "outputs": [
    {
     "data": {
      "text/plain": [
       "<AxesSubplot:xlabel='result', ylabel='runs_left'>"
      ]
     },
     "execution_count": 64,
     "metadata": {},
     "output_type": "execute_result"
    },
    {
     "data": {
      "image/png": "[encoded data removed]",
      "text/plain": [
       "<Figure size 432x288 with 1 Axes>"
      ]
     },
     "metadata": {
      "needs_background": "light"
     },
     "output_type": "display_data"
    }
   ],
   "source": [
    "sns.barplot(x=df['result'],y=df['runs_left'])"
   ]
  },
  {
   "cell_type": "code",
   "execution_count": null,
   "id": "8398ddc1",
   "metadata": {},
   "outputs": [],
   "source": []
  },
  {
   "cell_type": "code",
   "execution_count": 65,
   "id": "35d0bc4c",
   "metadata": {},
   "outputs": [
    {
     "data": {
      "text/html": [
       "<div>\n",
       "<style scoped>\n",
       "    .dataframe tbody tr th:only-of-type {\n",
       "        vertical-align: middle;\n",
       "    }\n",
       "\n",
       "    .dataframe tbody tr th {\n",
       "        vertical-align: top;\n",
       "    }\n",
       "\n",
       "    .dataframe thead th {\n",
       "        text-align: right;\n",
       "    }\n",
       "</style>\n",
       "<table border=\"1\" class=\"dataframe\">\n",
       "  <thead>\n",
       "    <tr style=\"text-align: right;\">\n",
       "      <th></th>\n",
       "      <th>batting_team</th>\n",
       "      <th>bowling_team</th>\n",
       "      <th>city</th>\n",
       "      <th>runs_left</th>\n",
       "      <th>balls_left</th>\n",
       "      <th>wickets_left</th>\n",
       "      <th>total_runs_x</th>\n",
       "      <th>cur_run_rate</th>\n",
       "      <th>req_run_rate</th>\n",
       "      <th>result</th>\n",
       "    </tr>\n",
       "  </thead>\n",
       "  <tbody>\n",
       "    <tr>\n",
       "      <th>0</th>\n",
       "      <td>Kolkata Knight Riders</td>\n",
       "      <td>Royal Challengers Bangalore</td>\n",
       "      <td>Bangalore</td>\n",
       "      <td>222</td>\n",
       "      <td>119</td>\n",
       "      <td>10</td>\n",
       "      <td>223</td>\n",
       "      <td>6.000000</td>\n",
       "      <td>11.193277</td>\n",
       "      <td>1</td>\n",
       "    </tr>\n",
       "    <tr>\n",
       "      <th>1</th>\n",
       "      <td>Kolkata Knight Riders</td>\n",
       "      <td>Royal Challengers Bangalore</td>\n",
       "      <td>Bangalore</td>\n",
       "      <td>222</td>\n",
       "      <td>118</td>\n",
       "      <td>10</td>\n",
       "      <td>223</td>\n",
       "      <td>3.000000</td>\n",
       "      <td>11.288136</td>\n",
       "      <td>1</td>\n",
       "    </tr>\n",
       "    <tr>\n",
       "      <th>2</th>\n",
       "      <td>Kolkata Knight Riders</td>\n",
       "      <td>Royal Challengers Bangalore</td>\n",
       "      <td>Bangalore</td>\n",
       "      <td>221</td>\n",
       "      <td>117</td>\n",
       "      <td>10</td>\n",
       "      <td>223</td>\n",
       "      <td>4.000000</td>\n",
       "      <td>11.333333</td>\n",
       "      <td>1</td>\n",
       "    </tr>\n",
       "    <tr>\n",
       "      <th>3</th>\n",
       "      <td>Kolkata Knight Riders</td>\n",
       "      <td>Royal Challengers Bangalore</td>\n",
       "      <td>Bangalore</td>\n",
       "      <td>221</td>\n",
       "      <td>116</td>\n",
       "      <td>10</td>\n",
       "      <td>223</td>\n",
       "      <td>3.000000</td>\n",
       "      <td>11.431034</td>\n",
       "      <td>1</td>\n",
       "    </tr>\n",
       "    <tr>\n",
       "      <th>4</th>\n",
       "      <td>Kolkata Knight Riders</td>\n",
       "      <td>Royal Challengers Bangalore</td>\n",
       "      <td>Bangalore</td>\n",
       "      <td>221</td>\n",
       "      <td>115</td>\n",
       "      <td>10</td>\n",
       "      <td>223</td>\n",
       "      <td>2.400000</td>\n",
       "      <td>11.530435</td>\n",
       "      <td>1</td>\n",
       "    </tr>\n",
       "    <tr>\n",
       "      <th>...</th>\n",
       "      <td>...</td>\n",
       "      <td>...</td>\n",
       "      <td>...</td>\n",
       "      <td>...</td>\n",
       "      <td>...</td>\n",
       "      <td>...</td>\n",
       "      <td>...</td>\n",
       "      <td>...</td>\n",
       "      <td>...</td>\n",
       "      <td>...</td>\n",
       "    </tr>\n",
       "    <tr>\n",
       "      <th>112088</th>\n",
       "      <td>Royal Challengers Bangalore</td>\n",
       "      <td>Sunrisers Hyderabad</td>\n",
       "      <td>Bangalore</td>\n",
       "      <td>-150</td>\n",
       "      <td>34</td>\n",
       "      <td>0</td>\n",
       "      <td>209</td>\n",
       "      <td>25.046512</td>\n",
       "      <td>-26.470588</td>\n",
       "      <td>0</td>\n",
       "    </tr>\n",
       "    <tr>\n",
       "      <th>112089</th>\n",
       "      <td>Royal Challengers Bangalore</td>\n",
       "      <td>Sunrisers Hyderabad</td>\n",
       "      <td>Bangalore</td>\n",
       "      <td>-151</td>\n",
       "      <td>33</td>\n",
       "      <td>0</td>\n",
       "      <td>209</td>\n",
       "      <td>24.827586</td>\n",
       "      <td>-27.454545</td>\n",
       "      <td>0</td>\n",
       "    </tr>\n",
       "    <tr>\n",
       "      <th>112090</th>\n",
       "      <td>Royal Challengers Bangalore</td>\n",
       "      <td>Sunrisers Hyderabad</td>\n",
       "      <td>Bangalore</td>\n",
       "      <td>-151</td>\n",
       "      <td>32</td>\n",
       "      <td>0</td>\n",
       "      <td>209</td>\n",
       "      <td>24.545455</td>\n",
       "      <td>-28.312500</td>\n",
       "      <td>0</td>\n",
       "    </tr>\n",
       "    <tr>\n",
       "      <th>112091</th>\n",
       "      <td>Royal Challengers Bangalore</td>\n",
       "      <td>Sunrisers Hyderabad</td>\n",
       "      <td>Bangalore</td>\n",
       "      <td>-157</td>\n",
       "      <td>31</td>\n",
       "      <td>0</td>\n",
       "      <td>209</td>\n",
       "      <td>24.674157</td>\n",
       "      <td>-30.387097</td>\n",
       "      <td>0</td>\n",
       "    </tr>\n",
       "    <tr>\n",
       "      <th>112092</th>\n",
       "      <td>Royal Challengers Bangalore</td>\n",
       "      <td>Sunrisers Hyderabad</td>\n",
       "      <td>Bangalore</td>\n",
       "      <td>-157</td>\n",
       "      <td>30</td>\n",
       "      <td>0</td>\n",
       "      <td>209</td>\n",
       "      <td>24.400000</td>\n",
       "      <td>-31.400000</td>\n",
       "      <td>0</td>\n",
       "    </tr>\n",
       "  </tbody>\n",
       "</table>\n",
       "<p>92001 rows × 10 columns</p>\n",
       "</div>"
      ],
      "text/plain": [
       "                       batting_team                 bowling_team       city  \\\n",
       "0             Kolkata Knight Riders  Royal Challengers Bangalore  Bangalore   \n",
       "1             Kolkata Knight Riders  Royal Challengers Bangalore  Bangalore   \n",
       "2             Kolkata Knight Riders  Royal Challengers Bangalore  Bangalore   \n",
       "3             Kolkata Knight Riders  Royal Challengers Bangalore  Bangalore   \n",
       "4             Kolkata Knight Riders  Royal Challengers Bangalore  Bangalore   \n",
       "...                             ...                          ...        ...   \n",
       "112088  Royal Challengers Bangalore          Sunrisers Hyderabad  Bangalore   \n",
       "112089  Royal Challengers Bangalore          Sunrisers Hyderabad  Bangalore   \n",
       "112090  Royal Challengers Bangalore          Sunrisers Hyderabad  Bangalore   \n",
       "112091  Royal Challengers Bangalore          Sunrisers Hyderabad  Bangalore   \n",
       "112092  Royal Challengers Bangalore          Sunrisers Hyderabad  Bangalore   \n",
       "\n",
       "        runs_left  balls_left  wickets_left  total_runs_x  cur_run_rate  \\\n",
       "0             222         119            10           223      6.000000   \n",
       "1             222         118            10           223      3.000000   \n",
       "2             221         117            10           223      4.000000   \n",
       "3             221         116            10           223      3.000000   \n",
       "4             221         115            10           223      2.400000   \n",
       "...           ...         ...           ...           ...           ...   \n",
       "112088       -150          34             0           209     25.046512   \n",
       "112089       -151          33             0           209     24.827586   \n",
       "112090       -151          32             0           209     24.545455   \n",
       "112091       -157          31             0           209     24.674157   \n",
       "112092       -157          30             0           209     24.400000   \n",
       "\n",
       "        req_run_rate  result  \n",
       "0          11.193277       1  \n",
       "1          11.288136       1  \n",
       "2          11.333333       1  \n",
       "3          11.431034       1  \n",
       "4          11.530435       1  \n",
       "...              ...     ...  \n",
       "112088    -26.470588       0  \n",
       "112089    -27.454545       0  \n",
       "112090    -28.312500       0  \n",
       "112091    -30.387097       0  \n",
       "112092    -31.400000       0  \n",
       "\n",
       "[92001 rows x 10 columns]"
      ]
     },
     "execution_count": 65,
     "metadata": {},
     "output_type": "execute_result"
    }
   ],
   "source": [
    "df"
   ]
  },
  {
   "cell_type": "code",
   "execution_count": 66,
   "id": "4a93d62b",
   "metadata": {},
   "outputs": [
    {
     "name": "stderr",
     "output_type": "stream",
     "text": [
      "C:\\Users\\himanshu\\anaconda3\\lib\\site-packages\\seaborn\\distributions.py:2619: FutureWarning: `distplot` is a deprecated function and will be removed in a future version. Please adapt your code to use either `displot` (a figure-level function with similar flexibility) or `histplot` (an axes-level function for histograms).\n",
      "  warnings.warn(msg, FutureWarning)\n"
     ]
    },
    {
     "data": {
      "text/plain": [
       "<AxesSubplot:xlabel='runs_left', ylabel='Density'>"
      ]
     },
     "execution_count": 66,
     "metadata": {},
     "output_type": "execute_result"
    },
    {
     "data": {
      "image/png": "[encoded data removed]",
      "text/plain": [
       "<Figure size 432x288 with 1 Axes>"
      ]
     },
     "metadata": {
      "needs_background": "light"
     },
     "output_type": "display_data"
    }
   ],
   "source": [
    "sns.distplot(df['runs_left'])"
   ]
  },
  {
   "cell_type": "code",
   "execution_count": 67,
   "id": "7fcf378d",
   "metadata": {},
   "outputs": [
    {
     "name": "stderr",
     "output_type": "stream",
     "text": [
      "C:\\Users\\himanshu\\anaconda3\\lib\\site-packages\\seaborn\\distributions.py:2619: FutureWarning: `distplot` is a deprecated function and will be removed in a future version. Please adapt your code to use either `displot` (a figure-level function with similar flexibility) or `histplot` (an axes-level function for histograms).\n",
      "  warnings.warn(msg, FutureWarning)\n"
     ]
    },
    {
     "data": {
      "text/plain": [
       "<AxesSubplot:xlabel='balls_left', ylabel='Density'>"
      ]
     },
     "execution_count": 67,
     "metadata": {},
     "output_type": "execute_result"
    },
    {
     "data": {
      "image/png": "[encoded data removed]",
      "text/plain": [
       "<Figure size 432x288 with 1 Axes>"
      ]
     },
     "metadata": {
      "needs_background": "light"
     },
     "output_type": "display_data"
    }
   ],
   "source": [
    "sns.distplot(df['balls_left'])"
   ]
  },
  {
   "cell_type": "code",
   "execution_count": 68,
   "id": "eecc8998",
   "metadata": {},
   "outputs": [
    {
     "name": "stderr",
     "output_type": "stream",
     "text": [
      "C:\\Users\\himanshu\\anaconda3\\lib\\site-packages\\seaborn\\distributions.py:2619: FutureWarning: `distplot` is a deprecated function and will be removed in a future version. Please adapt your code to use either `displot` (a figure-level function with similar flexibility) or `histplot` (an axes-level function for histograms).\n",
      "  warnings.warn(msg, FutureWarning)\n"
     ]
    },
    {
     "data": {
      "text/plain": [
       "<AxesSubplot:xlabel='wickets_left', ylabel='Density'>"
      ]
     },
     "execution_count": 68,
     "metadata": {},
     "output_type": "execute_result"
    },
    {
     "data": {
      "image/png": "[encoded data removed]",
      "text/plain": [
       "<Figure size 432x288 with 1 Axes>"
      ]
     },
     "metadata": {
      "needs_background": "light"
     },
     "output_type": "display_data"
    }
   ],
   "source": [
    "sns.distplot(df['wickets_left'])"
   ]
  },
  {
   "cell_type": "code",
   "execution_count": 69,
   "id": "0146a108",
   "metadata": {},
   "outputs": [
    {
     "name": "stderr",
     "output_type": "stream",
     "text": [
      "C:\\Users\\himanshu\\anaconda3\\lib\\site-packages\\seaborn\\distributions.py:2619: FutureWarning: `distplot` is a deprecated function and will be removed in a future version. Please adapt your code to use either `displot` (a figure-level function with similar flexibility) or `histplot` (an axes-level function for histograms).\n",
      "  warnings.warn(msg, FutureWarning)\n"
     ]
    },
    {
     "data": {
      "text/plain": [
       "<AxesSubplot:xlabel='total_runs_x', ylabel='Density'>"
      ]
     },
     "execution_count": 69,
     "metadata": {},
     "output_type": "execute_result"
    },
    {
     "data": {
      "image/png": "[encoded data removed]",
      "text/plain": [
       "<Figure size 432x288 with 1 Axes>"
      ]
     },
     "metadata": {
      "needs_background": "light"
     },
     "output_type": "display_data"
    }
   ],
   "source": [
    "sns.distplot(df['total_runs_x'])"
   ]
  },
  {
   "cell_type": "code",
   "execution_count": 70,
   "id": "a0ed2c30",
   "metadata": {},
   "outputs": [
    {
     "name": "stderr",
     "output_type": "stream",
     "text": [
      "C:\\Users\\himanshu\\anaconda3\\lib\\site-packages\\seaborn\\distributions.py:2619: FutureWarning: `distplot` is a deprecated function and will be removed in a future version. Please adapt your code to use either `displot` (a figure-level function with similar flexibility) or `histplot` (an axes-level function for histograms).\n",
      "  warnings.warn(msg, FutureWarning)\n"
     ]
    },
    {
     "data": {
      "text/plain": [
       "<AxesSubplot:xlabel='cur_run_rate', ylabel='Density'>"
      ]
     },
     "execution_count": 70,
     "metadata": {},
     "output_type": "execute_result"
    },
    {
     "data": {
      "image/png": "[encoded data removed]",
      "text/plain": [
       "<Figure size 432x288 with 1 Axes>"
      ]
     },
     "metadata": {
      "needs_background": "light"
     },
     "output_type": "display_data"
    }
   ],
   "source": [
    "sns.distplot(df['cur_run_rate'])"
   ]
  },
  {
   "cell_type": "code",
   "execution_count": 71,
   "id": "9221c337",
   "metadata": {},
   "outputs": [
    {
     "name": "stderr",
     "output_type": "stream",
     "text": [
      "C:\\Users\\himanshu\\anaconda3\\lib\\site-packages\\pandas\\core\\arraylike.py:397: RuntimeWarning: divide by zero encountered in log\n",
      "  result = getattr(ufunc, method)(*inputs, **kwargs)\n",
      "C:\\Users\\himanshu\\AppData\\Local\\Temp\\ipykernel_30928\\1173997685.py:1: SettingWithCopyWarning: \n",
      "A value is trying to be set on a copy of a slice from a DataFrame.\n",
      "Try using .loc[row_indexer,col_indexer] = value instead\n",
      "\n",
      "See the caveats in the documentation: https://pandas.pydata.org/pandas-docs/stable/user_guide/indexing.html#returning-a-view-versus-a-copy\n",
      "  df['cur_run_rate']=np.log(df['cur_run_rate'])\n"
     ]
    }
   ],
   "source": [
    "df['cur_run_rate']=np.log(df['cur_run_rate'])\n"
   ]
  },
  {
   "cell_type": "code",
   "execution_count": 72,
   "id": "27e844b5",
   "metadata": {},
   "outputs": [],
   "source": [
    "df=df[df['cur_run_rate']>0]"
   ]
  },
  {
   "cell_type": "code",
   "execution_count": 73,
   "id": "cb56ab4f",
   "metadata": {},
   "outputs": [
    {
     "name": "stderr",
     "output_type": "stream",
     "text": [
      "C:\\Users\\himanshu\\anaconda3\\lib\\site-packages\\seaborn\\distributions.py:2619: FutureWarning: `distplot` is a deprecated function and will be removed in a future version. Please adapt your code to use either `displot` (a figure-level function with similar flexibility) or `histplot` (an axes-level function for histograms).\n",
      "  warnings.warn(msg, FutureWarning)\n"
     ]
    },
    {
     "data": {
      "text/plain": [
       "<AxesSubplot:xlabel='cur_run_rate', ylabel='Density'>"
      ]
     },
     "execution_count": 73,
     "metadata": {},
     "output_type": "execute_result"
    },
    {
     "data": {
      "image/png": "[encoded data removed]",
      "text/plain": [
       "<Figure size 432x288 with 1 Axes>"
      ]
     },
     "metadata": {
      "needs_background": "light"
     },
     "output_type": "display_data"
    }
   ],
   "source": [
    "sns.distplot(df['cur_run_rate'])"
   ]
  },
  {
   "cell_type": "code",
   "execution_count": 74,
   "id": "71846af2",
   "metadata": {},
   "outputs": [
    {
     "name": "stderr",
     "output_type": "stream",
     "text": [
      "C:\\Users\\himanshu\\anaconda3\\lib\\site-packages\\seaborn\\distributions.py:2619: FutureWarning: `distplot` is a deprecated function and will be removed in a future version. Please adapt your code to use either `displot` (a figure-level function with similar flexibility) or `histplot` (an axes-level function for histograms).\n",
      "  warnings.warn(msg, FutureWarning)\n"
     ]
    },
    {
     "data": {
      "text/plain": [
       "<AxesSubplot:xlabel='req_run_rate', ylabel='Density'>"
      ]
     },
     "execution_count": 74,
     "metadata": {},
     "output_type": "execute_result"
    },
    {
     "data": {
      "image/png": "[encoded data removed]",
      "text/plain": [
       "<Figure size 432x288 with 1 Axes>"
      ]
     },
     "metadata": {
      "needs_background": "light"
     },
     "output_type": "display_data"
    }
   ],
   "source": [
    "sns.distplot(df['req_run_rate'])"
   ]
  },
  {
   "cell_type": "code",
   "execution_count": 75,
   "id": "286d0436",
   "metadata": {},
   "outputs": [
    {
     "data": {
      "text/html": [
       "<div>\n",
       "<style scoped>\n",
       "    .dataframe tbody tr th:only-of-type {\n",
       "        vertical-align: middle;\n",
       "    }\n",
       "\n",
       "    .dataframe tbody tr th {\n",
       "        vertical-align: top;\n",
       "    }\n",
       "\n",
       "    .dataframe thead th {\n",
       "        text-align: right;\n",
       "    }\n",
       "</style>\n",
       "<table border=\"1\" class=\"dataframe\">\n",
       "  <thead>\n",
       "    <tr style=\"text-align: right;\">\n",
       "      <th></th>\n",
       "      <th>batting_team</th>\n",
       "      <th>bowling_team</th>\n",
       "      <th>city</th>\n",
       "      <th>runs_left</th>\n",
       "      <th>balls_left</th>\n",
       "      <th>wickets_left</th>\n",
       "      <th>total_runs_x</th>\n",
       "      <th>cur_run_rate</th>\n",
       "      <th>req_run_rate</th>\n",
       "      <th>result</th>\n",
       "    </tr>\n",
       "  </thead>\n",
       "  <tbody>\n",
       "    <tr>\n",
       "      <th>0</th>\n",
       "      <td>Kolkata Knight Riders</td>\n",
       "      <td>Royal Challengers Bangalore</td>\n",
       "      <td>Bangalore</td>\n",
       "      <td>222</td>\n",
       "      <td>119</td>\n",
       "      <td>10</td>\n",
       "      <td>223</td>\n",
       "      <td>1.791759</td>\n",
       "      <td>11.193277</td>\n",
       "      <td>1</td>\n",
       "    </tr>\n",
       "    <tr>\n",
       "      <th>1</th>\n",
       "      <td>Kolkata Knight Riders</td>\n",
       "      <td>Royal Challengers Bangalore</td>\n",
       "      <td>Bangalore</td>\n",
       "      <td>222</td>\n",
       "      <td>118</td>\n",
       "      <td>10</td>\n",
       "      <td>223</td>\n",
       "      <td>1.098612</td>\n",
       "      <td>11.288136</td>\n",
       "      <td>1</td>\n",
       "    </tr>\n",
       "    <tr>\n",
       "      <th>2</th>\n",
       "      <td>Kolkata Knight Riders</td>\n",
       "      <td>Royal Challengers Bangalore</td>\n",
       "      <td>Bangalore</td>\n",
       "      <td>221</td>\n",
       "      <td>117</td>\n",
       "      <td>10</td>\n",
       "      <td>223</td>\n",
       "      <td>1.386294</td>\n",
       "      <td>11.333333</td>\n",
       "      <td>1</td>\n",
       "    </tr>\n",
       "    <tr>\n",
       "      <th>3</th>\n",
       "      <td>Kolkata Knight Riders</td>\n",
       "      <td>Royal Challengers Bangalore</td>\n",
       "      <td>Bangalore</td>\n",
       "      <td>221</td>\n",
       "      <td>116</td>\n",
       "      <td>10</td>\n",
       "      <td>223</td>\n",
       "      <td>1.098612</td>\n",
       "      <td>11.431034</td>\n",
       "      <td>1</td>\n",
       "    </tr>\n",
       "    <tr>\n",
       "      <th>4</th>\n",
       "      <td>Kolkata Knight Riders</td>\n",
       "      <td>Royal Challengers Bangalore</td>\n",
       "      <td>Bangalore</td>\n",
       "      <td>221</td>\n",
       "      <td>115</td>\n",
       "      <td>10</td>\n",
       "      <td>223</td>\n",
       "      <td>0.875469</td>\n",
       "      <td>11.530435</td>\n",
       "      <td>1</td>\n",
       "    </tr>\n",
       "    <tr>\n",
       "      <th>...</th>\n",
       "      <td>...</td>\n",
       "      <td>...</td>\n",
       "      <td>...</td>\n",
       "      <td>...</td>\n",
       "      <td>...</td>\n",
       "      <td>...</td>\n",
       "      <td>...</td>\n",
       "      <td>...</td>\n",
       "      <td>...</td>\n",
       "      <td>...</td>\n",
       "    </tr>\n",
       "    <tr>\n",
       "      <th>112088</th>\n",
       "      <td>Royal Challengers Bangalore</td>\n",
       "      <td>Sunrisers Hyderabad</td>\n",
       "      <td>Bangalore</td>\n",
       "      <td>-150</td>\n",
       "      <td>34</td>\n",
       "      <td>0</td>\n",
       "      <td>209</td>\n",
       "      <td>3.220735</td>\n",
       "      <td>-26.470588</td>\n",
       "      <td>0</td>\n",
       "    </tr>\n",
       "    <tr>\n",
       "      <th>112089</th>\n",
       "      <td>Royal Challengers Bangalore</td>\n",
       "      <td>Sunrisers Hyderabad</td>\n",
       "      <td>Bangalore</td>\n",
       "      <td>-151</td>\n",
       "      <td>33</td>\n",
       "      <td>0</td>\n",
       "      <td>209</td>\n",
       "      <td>3.211955</td>\n",
       "      <td>-27.454545</td>\n",
       "      <td>0</td>\n",
       "    </tr>\n",
       "    <tr>\n",
       "      <th>112090</th>\n",
       "      <td>Royal Challengers Bangalore</td>\n",
       "      <td>Sunrisers Hyderabad</td>\n",
       "      <td>Bangalore</td>\n",
       "      <td>-151</td>\n",
       "      <td>32</td>\n",
       "      <td>0</td>\n",
       "      <td>209</td>\n",
       "      <td>3.200527</td>\n",
       "      <td>-28.312500</td>\n",
       "      <td>0</td>\n",
       "    </tr>\n",
       "    <tr>\n",
       "      <th>112091</th>\n",
       "      <td>Royal Challengers Bangalore</td>\n",
       "      <td>Sunrisers Hyderabad</td>\n",
       "      <td>Bangalore</td>\n",
       "      <td>-157</td>\n",
       "      <td>31</td>\n",
       "      <td>0</td>\n",
       "      <td>209</td>\n",
       "      <td>3.205756</td>\n",
       "      <td>-30.387097</td>\n",
       "      <td>0</td>\n",
       "    </tr>\n",
       "    <tr>\n",
       "      <th>112092</th>\n",
       "      <td>Royal Challengers Bangalore</td>\n",
       "      <td>Sunrisers Hyderabad</td>\n",
       "      <td>Bangalore</td>\n",
       "      <td>-157</td>\n",
       "      <td>30</td>\n",
       "      <td>0</td>\n",
       "      <td>209</td>\n",
       "      <td>3.194583</td>\n",
       "      <td>-31.400000</td>\n",
       "      <td>0</td>\n",
       "    </tr>\n",
       "  </tbody>\n",
       "</table>\n",
       "<p>91255 rows × 10 columns</p>\n",
       "</div>"
      ],
      "text/plain": [
       "                       batting_team                 bowling_team       city  \\\n",
       "0             Kolkata Knight Riders  Royal Challengers Bangalore  Bangalore   \n",
       "1             Kolkata Knight Riders  Royal Challengers Bangalore  Bangalore   \n",
       "2             Kolkata Knight Riders  Royal Challengers Bangalore  Bangalore   \n",
       "3             Kolkata Knight Riders  Royal Challengers Bangalore  Bangalore   \n",
       "4             Kolkata Knight Riders  Royal Challengers Bangalore  Bangalore   \n",
       "...                             ...                          ...        ...   \n",
       "112088  Royal Challengers Bangalore          Sunrisers Hyderabad  Bangalore   \n",
       "112089  Royal Challengers Bangalore          Sunrisers Hyderabad  Bangalore   \n",
       "112090  Royal Challengers Bangalore          Sunrisers Hyderabad  Bangalore   \n",
       "112091  Royal Challengers Bangalore          Sunrisers Hyderabad  Bangalore   \n",
       "112092  Royal Challengers Bangalore          Sunrisers Hyderabad  Bangalore   \n",
       "\n",
       "        runs_left  balls_left  wickets_left  total_runs_x  cur_run_rate  \\\n",
       "0             222         119            10           223      1.791759   \n",
       "1             222         118            10           223      1.098612   \n",
       "2             221         117            10           223      1.386294   \n",
       "3             221         116            10           223      1.098612   \n",
       "4             221         115            10           223      0.875469   \n",
       "...           ...         ...           ...           ...           ...   \n",
       "112088       -150          34             0           209      3.220735   \n",
       "112089       -151          33             0           209      3.211955   \n",
       "112090       -151          32             0           209      3.200527   \n",
       "112091       -157          31             0           209      3.205756   \n",
       "112092       -157          30             0           209      3.194583   \n",
       "\n",
       "        req_run_rate  result  \n",
       "0          11.193277       1  \n",
       "1          11.288136       1  \n",
       "2          11.333333       1  \n",
       "3          11.431034       1  \n",
       "4          11.530435       1  \n",
       "...              ...     ...  \n",
       "112088    -26.470588       0  \n",
       "112089    -27.454545       0  \n",
       "112090    -28.312500       0  \n",
       "112091    -30.387097       0  \n",
       "112092    -31.400000       0  \n",
       "\n",
       "[91255 rows x 10 columns]"
      ]
     },
     "execution_count": 75,
     "metadata": {},
     "output_type": "execute_result"
    }
   ],
   "source": [
    "df"
   ]
  },
  {
   "cell_type": "code",
   "execution_count": 76,
   "id": "9dff8fef",
   "metadata": {},
   "outputs": [
    {
     "data": {
      "text/plain": [
       "<AxesSubplot:xlabel='result', ylabel='cur_run_rate'>"
      ]
     },
     "execution_count": 76,
     "metadata": {},
     "output_type": "execute_result"
    },
    {
     "data": {
      "image/png": "[encoded data removed]",
      "text/plain": [
       "<Figure size 432x288 with 1 Axes>"
      ]
     },
     "metadata": {
      "needs_background": "light"
     },
     "output_type": "display_data"
    }
   ],
   "source": [
    "sns.boxplot(x=df['result'],y=df['cur_run_rate'])"
   ]
  },
  {
   "cell_type": "code",
   "execution_count": 77,
   "id": "7cd43ca0",
   "metadata": {},
   "outputs": [
    {
     "data": {
      "text/plain": [
       "<AxesSubplot:xlabel='result', ylabel='req_run_rate'>"
      ]
     },
     "execution_count": 77,
     "metadata": {},
     "output_type": "execute_result"
    },
    {
     "data": {
      "image/png": "[encoded data removed]",
      "text/plain": [
       "<Figure size 432x288 with 1 Axes>"
      ]
     },
     "metadata": {
      "needs_background": "light"
     },
     "output_type": "display_data"
    }
   ],
   "source": [
    "sns.boxplot(x=df['result'],y=df['req_run_rate'])"
   ]
  },
  {
   "cell_type": "code",
   "execution_count": 78,
   "id": "4b5f2ea2",
   "metadata": {},
   "outputs": [
    {
     "data": {
      "text/plain": [
       "<AxesSubplot:xlabel='result', ylabel='total_runs_x'>"
      ]
     },
     "execution_count": 78,
     "metadata": {},
     "output_type": "execute_result"
    },
    {
     "data": {
      "image/png": "[encoded data removed]",
      "text/plain": [
       "<Figure size 432x288 with 1 Axes>"
      ]
     },
     "metadata": {
      "needs_background": "light"
     },
     "output_type": "display_data"
    }
   ],
   "source": [
    "sns.boxplot(x=df['result'],y=df['total_runs_x'])"
   ]
  },
  {
   "cell_type": "code",
   "execution_count": 79,
   "id": "58086fb3",
   "metadata": {},
   "outputs": [
    {
     "data": {
      "text/plain": [
       "<AxesSubplot:xlabel='result', ylabel='wickets_left'>"
      ]
     },
     "execution_count": 79,
     "metadata": {},
     "output_type": "execute_result"
    },
    {
     "data": {
      "image/png": "[encoded data removed]",
      "text/plain": [
       "<Figure size 432x288 with 1 Axes>"
      ]
     },
     "metadata": {
      "needs_background": "light"
     },
     "output_type": "display_data"
    }
   ],
   "source": [
    "sns.boxplot(x=df['result'],y=df['wickets_left'])"
   ]
  },
  {
   "cell_type": "code",
   "execution_count": 80,
   "id": "19629e01",
   "metadata": {},
   "outputs": [
    {
     "data": {
      "text/plain": [
       "<AxesSubplot:xlabel='result', ylabel='balls_left'>"
      ]
     },
     "execution_count": 80,
     "metadata": {},
     "output_type": "execute_result"
    },
    {
     "data": {
      "image/png": "[encoded data removed]",
      "text/plain": [
       "<Figure size 432x288 with 1 Axes>"
      ]
     },
     "metadata": {
      "needs_background": "light"
     },
     "output_type": "display_data"
    }
   ],
   "source": [
    "sns.boxplot(x=df['result'],y=df['balls_left'])"
   ]
  },
  {
   "cell_type": "code",
   "execution_count": 81,
   "id": "df913493",
   "metadata": {},
   "outputs": [
    {
     "data": {
      "text/plain": [
       "<AxesSubplot:xlabel='result', ylabel='runs_left'>"
      ]
     },
     "execution_count": 81,
     "metadata": {},
     "output_type": "execute_result"
    },
    {
     "data": {
      "image/png": "[encoded data removed]",
      "text/plain": [
       "<Figure size 432x288 with 1 Axes>"
      ]
     },
     "metadata": {
      "needs_background": "light"
     },
     "output_type": "display_data"
    }
   ],
   "source": [
    "sns.boxplot(x=df['result'],y=df['runs_left'])"
   ]
  },
  {
   "cell_type": "code",
   "execution_count": 82,
   "id": "b3b917a2",
   "metadata": {},
   "outputs": [
    {
     "data": {
      "text/html": [
       "<div>\n",
       "<style scoped>\n",
       "    .dataframe tbody tr th:only-of-type {\n",
       "        vertical-align: middle;\n",
       "    }\n",
       "\n",
       "    .dataframe tbody tr th {\n",
       "        vertical-align: top;\n",
       "    }\n",
       "\n",
       "    .dataframe thead th {\n",
       "        text-align: right;\n",
       "    }\n",
       "</style>\n",
       "<table border=\"1\" class=\"dataframe\">\n",
       "  <thead>\n",
       "    <tr style=\"text-align: right;\">\n",
       "      <th></th>\n",
       "      <th>batting_team</th>\n",
       "      <th>bowling_team</th>\n",
       "      <th>city</th>\n",
       "      <th>runs_left</th>\n",
       "      <th>balls_left</th>\n",
       "      <th>wickets_left</th>\n",
       "      <th>total_runs_x</th>\n",
       "      <th>cur_run_rate</th>\n",
       "      <th>req_run_rate</th>\n",
       "      <th>result</th>\n",
       "    </tr>\n",
       "  </thead>\n",
       "  <tbody>\n",
       "    <tr>\n",
       "      <th>0</th>\n",
       "      <td>Kolkata Knight Riders</td>\n",
       "      <td>Royal Challengers Bangalore</td>\n",
       "      <td>Bangalore</td>\n",
       "      <td>222</td>\n",
       "      <td>119</td>\n",
       "      <td>10</td>\n",
       "      <td>223</td>\n",
       "      <td>1.791759</td>\n",
       "      <td>11.193277</td>\n",
       "      <td>1</td>\n",
       "    </tr>\n",
       "    <tr>\n",
       "      <th>1</th>\n",
       "      <td>Kolkata Knight Riders</td>\n",
       "      <td>Royal Challengers Bangalore</td>\n",
       "      <td>Bangalore</td>\n",
       "      <td>222</td>\n",
       "      <td>118</td>\n",
       "      <td>10</td>\n",
       "      <td>223</td>\n",
       "      <td>1.098612</td>\n",
       "      <td>11.288136</td>\n",
       "      <td>1</td>\n",
       "    </tr>\n",
       "    <tr>\n",
       "      <th>2</th>\n",
       "      <td>Kolkata Knight Riders</td>\n",
       "      <td>Royal Challengers Bangalore</td>\n",
       "      <td>Bangalore</td>\n",
       "      <td>221</td>\n",
       "      <td>117</td>\n",
       "      <td>10</td>\n",
       "      <td>223</td>\n",
       "      <td>1.386294</td>\n",
       "      <td>11.333333</td>\n",
       "      <td>1</td>\n",
       "    </tr>\n",
       "    <tr>\n",
       "      <th>3</th>\n",
       "      <td>Kolkata Knight Riders</td>\n",
       "      <td>Royal Challengers Bangalore</td>\n",
       "      <td>Bangalore</td>\n",
       "      <td>221</td>\n",
       "      <td>116</td>\n",
       "      <td>10</td>\n",
       "      <td>223</td>\n",
       "      <td>1.098612</td>\n",
       "      <td>11.431034</td>\n",
       "      <td>1</td>\n",
       "    </tr>\n",
       "    <tr>\n",
       "      <th>4</th>\n",
       "      <td>Kolkata Knight Riders</td>\n",
       "      <td>Royal Challengers Bangalore</td>\n",
       "      <td>Bangalore</td>\n",
       "      <td>221</td>\n",
       "      <td>115</td>\n",
       "      <td>10</td>\n",
       "      <td>223</td>\n",
       "      <td>0.875469</td>\n",
       "      <td>11.530435</td>\n",
       "      <td>1</td>\n",
       "    </tr>\n",
       "    <tr>\n",
       "      <th>...</th>\n",
       "      <td>...</td>\n",
       "      <td>...</td>\n",
       "      <td>...</td>\n",
       "      <td>...</td>\n",
       "      <td>...</td>\n",
       "      <td>...</td>\n",
       "      <td>...</td>\n",
       "      <td>...</td>\n",
       "      <td>...</td>\n",
       "      <td>...</td>\n",
       "    </tr>\n",
       "    <tr>\n",
       "      <th>112088</th>\n",
       "      <td>Royal Challengers Bangalore</td>\n",
       "      <td>Sunrisers Hyderabad</td>\n",
       "      <td>Bangalore</td>\n",
       "      <td>-150</td>\n",
       "      <td>34</td>\n",
       "      <td>0</td>\n",
       "      <td>209</td>\n",
       "      <td>3.220735</td>\n",
       "      <td>-26.470588</td>\n",
       "      <td>0</td>\n",
       "    </tr>\n",
       "    <tr>\n",
       "      <th>112089</th>\n",
       "      <td>Royal Challengers Bangalore</td>\n",
       "      <td>Sunrisers Hyderabad</td>\n",
       "      <td>Bangalore</td>\n",
       "      <td>-151</td>\n",
       "      <td>33</td>\n",
       "      <td>0</td>\n",
       "      <td>209</td>\n",
       "      <td>3.211955</td>\n",
       "      <td>-27.454545</td>\n",
       "      <td>0</td>\n",
       "    </tr>\n",
       "    <tr>\n",
       "      <th>112090</th>\n",
       "      <td>Royal Challengers Bangalore</td>\n",
       "      <td>Sunrisers Hyderabad</td>\n",
       "      <td>Bangalore</td>\n",
       "      <td>-151</td>\n",
       "      <td>32</td>\n",
       "      <td>0</td>\n",
       "      <td>209</td>\n",
       "      <td>3.200527</td>\n",
       "      <td>-28.312500</td>\n",
       "      <td>0</td>\n",
       "    </tr>\n",
       "    <tr>\n",
       "      <th>112091</th>\n",
       "      <td>Royal Challengers Bangalore</td>\n",
       "      <td>Sunrisers Hyderabad</td>\n",
       "      <td>Bangalore</td>\n",
       "      <td>-157</td>\n",
       "      <td>31</td>\n",
       "      <td>0</td>\n",
       "      <td>209</td>\n",
       "      <td>3.205756</td>\n",
       "      <td>-30.387097</td>\n",
       "      <td>0</td>\n",
       "    </tr>\n",
       "    <tr>\n",
       "      <th>112092</th>\n",
       "      <td>Royal Challengers Bangalore</td>\n",
       "      <td>Sunrisers Hyderabad</td>\n",
       "      <td>Bangalore</td>\n",
       "      <td>-157</td>\n",
       "      <td>30</td>\n",
       "      <td>0</td>\n",
       "      <td>209</td>\n",
       "      <td>3.194583</td>\n",
       "      <td>-31.400000</td>\n",
       "      <td>0</td>\n",
       "    </tr>\n",
       "  </tbody>\n",
       "</table>\n",
       "<p>91255 rows × 10 columns</p>\n",
       "</div>"
      ],
      "text/plain": [
       "                       batting_team                 bowling_team       city  \\\n",
       "0             Kolkata Knight Riders  Royal Challengers Bangalore  Bangalore   \n",
       "1             Kolkata Knight Riders  Royal Challengers Bangalore  Bangalore   \n",
       "2             Kolkata Knight Riders  Royal Challengers Bangalore  Bangalore   \n",
       "3             Kolkata Knight Riders  Royal Challengers Bangalore  Bangalore   \n",
       "4             Kolkata Knight Riders  Royal Challengers Bangalore  Bangalore   \n",
       "...                             ...                          ...        ...   \n",
       "112088  Royal Challengers Bangalore          Sunrisers Hyderabad  Bangalore   \n",
       "112089  Royal Challengers Bangalore          Sunrisers Hyderabad  Bangalore   \n",
       "112090  Royal Challengers Bangalore          Sunrisers Hyderabad  Bangalore   \n",
       "112091  Royal Challengers Bangalore          Sunrisers Hyderabad  Bangalore   \n",
       "112092  Royal Challengers Bangalore          Sunrisers Hyderabad  Bangalore   \n",
       "\n",
       "        runs_left  balls_left  wickets_left  total_runs_x  cur_run_rate  \\\n",
       "0             222         119            10           223      1.791759   \n",
       "1             222         118            10           223      1.098612   \n",
       "2             221         117            10           223      1.386294   \n",
       "3             221         116            10           223      1.098612   \n",
       "4             221         115            10           223      0.875469   \n",
       "...           ...         ...           ...           ...           ...   \n",
       "112088       -150          34             0           209      3.220735   \n",
       "112089       -151          33             0           209      3.211955   \n",
       "112090       -151          32             0           209      3.200527   \n",
       "112091       -157          31             0           209      3.205756   \n",
       "112092       -157          30             0           209      3.194583   \n",
       "\n",
       "        req_run_rate  result  \n",
       "0          11.193277       1  \n",
       "1          11.288136       1  \n",
       "2          11.333333       1  \n",
       "3          11.431034       1  \n",
       "4          11.530435       1  \n",
       "...              ...     ...  \n",
       "112088    -26.470588       0  \n",
       "112089    -27.454545       0  \n",
       "112090    -28.312500       0  \n",
       "112091    -30.387097       0  \n",
       "112092    -31.400000       0  \n",
       "\n",
       "[91255 rows x 10 columns]"
      ]
     },
     "execution_count": 82,
     "metadata": {},
     "output_type": "execute_result"
    }
   ],
   "source": [
    "df"
   ]
  },
  {
   "cell_type": "code",
   "execution_count": 83,
   "id": "f1b564ec",
   "metadata": {},
   "outputs": [
    {
     "data": {
      "image/png": "[encoded data removed]",
      "text/plain": [
       "<Figure size 1080x720 with 1 Axes>"
      ]
     },
     "metadata": {
      "needs_background": "light"
     },
     "output_type": "display_data"
    }
   ],
   "source": [
    "plt.figure(figsize=(15,10))\n",
    "sns.boxplot(x=df['batting_team'],y=df['runs_left'],hue=df['result'])\n",
    "plt.xticks(rotation=90)\n",
    "plt.show()"
   ]
  },
  {
   "cell_type": "code",
   "execution_count": 84,
   "id": "30d7c1cb",
   "metadata": {},
   "outputs": [
    {
     "data": {
      "image/png": "[encoded data removed]",
      "text/plain": [
       "<Figure size 1080x720 with 1 Axes>"
      ]
     },
     "metadata": {
      "needs_background": "light"
     },
     "output_type": "display_data"
    }
   ],
   "source": [
    "plt.figure(figsize=(15,10))\n",
    "sns.boxplot(x=df['bowling_team'],y=df['runs_left'],hue=df['result'])\n",
    "plt.xticks(rotation=90)\n",
    "plt.show()"
   ]
  },
  {
   "cell_type": "code",
   "execution_count": 85,
   "id": "f01fa82c",
   "metadata": {},
   "outputs": [
    {
     "data": {
      "image/png": "[encoded data removed]",
      "text/plain": [
       "<Figure size 1080x720 with 1 Axes>"
      ]
     },
     "metadata": {
      "needs_background": "light"
     },
     "output_type": "display_data"
    }
   ],
   "source": [
    "plt.figure(figsize=(15,10))\n",
    "sns.boxplot(x=df['bowling_team'],y=df['balls_left'],hue=df['result'])\n",
    "plt.xticks(rotation=90)\n",
    "plt.show()"
   ]
  },
  {
   "cell_type": "code",
   "execution_count": 86,
   "id": "819fb9fa",
   "metadata": {},
   "outputs": [
    {
     "data": {
      "image/png": "[encoded data removed]",
      "text/plain": [
       "<Figure size 1080x720 with 1 Axes>"
      ]
     },
     "metadata": {
      "needs_background": "light"
     },
     "output_type": "display_data"
    }
   ],
   "source": [
    "plt.figure(figsize=(15,10))\n",
    "sns.boxplot(x=df['batting_team'],y=df['balls_left'],hue=df['result'])\n",
    "plt.xticks(rotation=90)\n",
    "plt.show()"
   ]
  },
  {
   "cell_type": "code",
   "execution_count": 87,
   "id": "693ebbd3",
   "metadata": {},
   "outputs": [
    {
     "data": {
      "image/png": "[encoded data removed]",
      "text/plain": [
       "<Figure size 1080x720 with 1 Axes>"
      ]
     },
     "metadata": {
      "needs_background": "light"
     },
     "output_type": "display_data"
    }
   ],
   "source": [
    "\n",
    "plt.figure(figsize=(15,10))\n",
    "sns.boxplot(x=df['batting_team'],y=df['wickets_left'],hue=df['result'])\n",
    "plt.xticks(rotation=90)\n",
    "plt.show()"
   ]
  },
  {
   "cell_type": "code",
   "execution_count": 88,
   "id": "f32f7f59",
   "metadata": {},
   "outputs": [
    {
     "data": {
      "image/png": "[encoded data removed]",
      "text/plain": [
       "<Figure size 1080x720 with 1 Axes>"
      ]
     },
     "metadata": {
      "needs_background": "light"
     },
     "output_type": "display_data"
    }
   ],
   "source": [
    "plt.figure(figsize=(15,10))\n",
    "sns.boxplot(x=df['bowling_team'],y=df['wickets_left'],hue=df['result'])\n",
    "plt.xticks(rotation=90)\n",
    "plt.show()"
   ]
  },
  {
   "cell_type": "code",
   "execution_count": 89,
   "id": "fed347d9",
   "metadata": {},
   "outputs": [
    {
     "data": {
      "image/png": "[encoded data removed]",
      "text/plain": [
       "<Figure size 1080x720 with 1 Axes>"
      ]
     },
     "metadata": {
      "needs_background": "light"
     },
     "output_type": "display_data"
    }
   ],
   "source": [
    "plt.figure(figsize=(15,10))\n",
    "sns.boxplot(x=df['bowling_team'],y=df['cur_run_rate'],hue=df['result'])\n",
    "plt.xticks(rotation=90)\n",
    "plt.show()"
   ]
  },
  {
   "cell_type": "code",
   "execution_count": 90,
   "id": "8840eb3e",
   "metadata": {},
   "outputs": [
    {
     "data": {
      "image/png": "[encoded data removed]",
      "text/plain": [
       "<Figure size 1080x720 with 1 Axes>"
      ]
     },
     "metadata": {
      "needs_background": "light"
     },
     "output_type": "display_data"
    }
   ],
   "source": [
    "plt.figure(figsize=(15,10))\n",
    "sns.boxplot(x=df['batting_team'],y=df['cur_run_rate'],hue=df['result'])\n",
    "plt.xticks(rotation=90)\n",
    "plt.show()"
   ]
  },
  {
   "cell_type": "code",
   "execution_count": 91,
   "id": "f470a858",
   "metadata": {},
   "outputs": [
    {
     "data": {
      "image/png": "[encoded data removed]",
      "text/plain": [
       "<Figure size 1080x720 with 1 Axes>"
      ]
     },
     "metadata": {
      "needs_background": "light"
     },
     "output_type": "display_data"
    }
   ],
   "source": [
    "plt.figure(figsize=(15,10))\n",
    "sns.boxplot(x=df['batting_team'],y=df['req_run_rate'],hue=df['result'])\n",
    "plt.xticks(rotation=90)\n",
    "plt.show()"
   ]
  },
  {
   "cell_type": "code",
   "execution_count": 92,
   "id": "8980f461",
   "metadata": {},
   "outputs": [
    {
     "data": {
      "image/png": "[encoded data removed]",
      "text/plain": [
       "<Figure size 1080x720 with 1 Axes>"
      ]
     },
     "metadata": {
      "needs_background": "light"
     },
     "output_type": "display_data"
    }
   ],
   "source": [
    "plt.figure(figsize=(15,10))\n",
    "sns.boxplot(x=df['bowling_team'],y=df['req_run_rate'],hue=df['result'])\n",
    "plt.xticks(rotation=90)\n",
    "plt.show()"
   ]
  },
  {
   "cell_type": "code",
   "execution_count": 93,
   "id": "b8b0697f",
   "metadata": {},
   "outputs": [
    {
     "data": {
      "image/png": "[encoded data removed]",
      "text/plain": [
       "<Figure size 1080x720 with 1 Axes>"
      ]
     },
     "metadata": {
      "needs_background": "light"
     },
     "output_type": "display_data"
    }
   ],
   "source": [
    "plt.figure(figsize=(15,10))\n",
    "sns.boxplot(x=df['city'],y=df['req_run_rate'],hue=df['result'])\n",
    "plt.xticks(rotation=90)\n",
    "plt.show()"
   ]
  },
  {
   "cell_type": "code",
   "execution_count": 94,
   "id": "e6888c14",
   "metadata": {},
   "outputs": [
    {
     "data": {
      "image/png": "[encoded data removed]",
      "text/plain": [
       "<Figure size 1080x720 with 1 Axes>"
      ]
     },
     "metadata": {
      "needs_background": "light"
     },
     "output_type": "display_data"
    }
   ],
   "source": [
    "plt.figure(figsize=(15,10))\n",
    "sns.boxplot(x=df['city'],y=df['cur_run_rate'],hue=df['result'])\n",
    "plt.xticks(rotation=90)\n",
    "plt.show()"
   ]
  },
  {
   "cell_type": "code",
   "execution_count": 95,
   "id": "3c62b33f",
   "metadata": {},
   "outputs": [
    {
     "data": {
      "text/html": [
       "<div>\n",
       "<style scoped>\n",
       "    .dataframe tbody tr th:only-of-type {\n",
       "        vertical-align: middle;\n",
       "    }\n",
       "\n",
       "    .dataframe tbody tr th {\n",
       "        vertical-align: top;\n",
       "    }\n",
       "\n",
       "    .dataframe thead th {\n",
       "        text-align: right;\n",
       "    }\n",
       "</style>\n",
       "<table border=\"1\" class=\"dataframe\">\n",
       "  <thead>\n",
       "    <tr style=\"text-align: right;\">\n",
       "      <th></th>\n",
       "      <th>batting_team</th>\n",
       "      <th>bowling_team</th>\n",
       "      <th>city</th>\n",
       "      <th>runs_left</th>\n",
       "      <th>balls_left</th>\n",
       "      <th>wickets_left</th>\n",
       "      <th>total_runs_x</th>\n",
       "      <th>cur_run_rate</th>\n",
       "      <th>req_run_rate</th>\n",
       "      <th>result</th>\n",
       "    </tr>\n",
       "  </thead>\n",
       "  <tbody>\n",
       "    <tr>\n",
       "      <th>0</th>\n",
       "      <td>Kolkata Knight Riders</td>\n",
       "      <td>Royal Challengers Bangalore</td>\n",
       "      <td>Bangalore</td>\n",
       "      <td>222</td>\n",
       "      <td>119</td>\n",
       "      <td>10</td>\n",
       "      <td>223</td>\n",
       "      <td>1.791759</td>\n",
       "      <td>11.193277</td>\n",
       "      <td>1</td>\n",
       "    </tr>\n",
       "    <tr>\n",
       "      <th>1</th>\n",
       "      <td>Kolkata Knight Riders</td>\n",
       "      <td>Royal Challengers Bangalore</td>\n",
       "      <td>Bangalore</td>\n",
       "      <td>222</td>\n",
       "      <td>118</td>\n",
       "      <td>10</td>\n",
       "      <td>223</td>\n",
       "      <td>1.098612</td>\n",
       "      <td>11.288136</td>\n",
       "      <td>1</td>\n",
       "    </tr>\n",
       "    <tr>\n",
       "      <th>2</th>\n",
       "      <td>Kolkata Knight Riders</td>\n",
       "      <td>Royal Challengers Bangalore</td>\n",
       "      <td>Bangalore</td>\n",
       "      <td>221</td>\n",
       "      <td>117</td>\n",
       "      <td>10</td>\n",
       "      <td>223</td>\n",
       "      <td>1.386294</td>\n",
       "      <td>11.333333</td>\n",
       "      <td>1</td>\n",
       "    </tr>\n",
       "    <tr>\n",
       "      <th>3</th>\n",
       "      <td>Kolkata Knight Riders</td>\n",
       "      <td>Royal Challengers Bangalore</td>\n",
       "      <td>Bangalore</td>\n",
       "      <td>221</td>\n",
       "      <td>116</td>\n",
       "      <td>10</td>\n",
       "      <td>223</td>\n",
       "      <td>1.098612</td>\n",
       "      <td>11.431034</td>\n",
       "      <td>1</td>\n",
       "    </tr>\n",
       "    <tr>\n",
       "      <th>4</th>\n",
       "      <td>Kolkata Knight Riders</td>\n",
       "      <td>Royal Challengers Bangalore</td>\n",
       "      <td>Bangalore</td>\n",
       "      <td>221</td>\n",
       "      <td>115</td>\n",
       "      <td>10</td>\n",
       "      <td>223</td>\n",
       "      <td>0.875469</td>\n",
       "      <td>11.530435</td>\n",
       "      <td>1</td>\n",
       "    </tr>\n",
       "    <tr>\n",
       "      <th>...</th>\n",
       "      <td>...</td>\n",
       "      <td>...</td>\n",
       "      <td>...</td>\n",
       "      <td>...</td>\n",
       "      <td>...</td>\n",
       "      <td>...</td>\n",
       "      <td>...</td>\n",
       "      <td>...</td>\n",
       "      <td>...</td>\n",
       "      <td>...</td>\n",
       "    </tr>\n",
       "    <tr>\n",
       "      <th>112088</th>\n",
       "      <td>Royal Challengers Bangalore</td>\n",
       "      <td>Sunrisers Hyderabad</td>\n",
       "      <td>Bangalore</td>\n",
       "      <td>-150</td>\n",
       "      <td>34</td>\n",
       "      <td>0</td>\n",
       "      <td>209</td>\n",
       "      <td>3.220735</td>\n",
       "      <td>-26.470588</td>\n",
       "      <td>0</td>\n",
       "    </tr>\n",
       "    <tr>\n",
       "      <th>112089</th>\n",
       "      <td>Royal Challengers Bangalore</td>\n",
       "      <td>Sunrisers Hyderabad</td>\n",
       "      <td>Bangalore</td>\n",
       "      <td>-151</td>\n",
       "      <td>33</td>\n",
       "      <td>0</td>\n",
       "      <td>209</td>\n",
       "      <td>3.211955</td>\n",
       "      <td>-27.454545</td>\n",
       "      <td>0</td>\n",
       "    </tr>\n",
       "    <tr>\n",
       "      <th>112090</th>\n",
       "      <td>Royal Challengers Bangalore</td>\n",
       "      <td>Sunrisers Hyderabad</td>\n",
       "      <td>Bangalore</td>\n",
       "      <td>-151</td>\n",
       "      <td>32</td>\n",
       "      <td>0</td>\n",
       "      <td>209</td>\n",
       "      <td>3.200527</td>\n",
       "      <td>-28.312500</td>\n",
       "      <td>0</td>\n",
       "    </tr>\n",
       "    <tr>\n",
       "      <th>112091</th>\n",
       "      <td>Royal Challengers Bangalore</td>\n",
       "      <td>Sunrisers Hyderabad</td>\n",
       "      <td>Bangalore</td>\n",
       "      <td>-157</td>\n",
       "      <td>31</td>\n",
       "      <td>0</td>\n",
       "      <td>209</td>\n",
       "      <td>3.205756</td>\n",
       "      <td>-30.387097</td>\n",
       "      <td>0</td>\n",
       "    </tr>\n",
       "    <tr>\n",
       "      <th>112092</th>\n",
       "      <td>Royal Challengers Bangalore</td>\n",
       "      <td>Sunrisers Hyderabad</td>\n",
       "      <td>Bangalore</td>\n",
       "      <td>-157</td>\n",
       "      <td>30</td>\n",
       "      <td>0</td>\n",
       "      <td>209</td>\n",
       "      <td>3.194583</td>\n",
       "      <td>-31.400000</td>\n",
       "      <td>0</td>\n",
       "    </tr>\n",
       "  </tbody>\n",
       "</table>\n",
       "<p>91255 rows × 10 columns</p>\n",
       "</div>"
      ],
      "text/plain": [
       "                       batting_team                 bowling_team       city  \\\n",
       "0             Kolkata Knight Riders  Royal Challengers Bangalore  Bangalore   \n",
       "1             Kolkata Knight Riders  Royal Challengers Bangalore  Bangalore   \n",
       "2             Kolkata Knight Riders  Royal Challengers Bangalore  Bangalore   \n",
       "3             Kolkata Knight Riders  Royal Challengers Bangalore  Bangalore   \n",
       "4             Kolkata Knight Riders  Royal Challengers Bangalore  Bangalore   \n",
       "...                             ...                          ...        ...   \n",
       "112088  Royal Challengers Bangalore          Sunrisers Hyderabad  Bangalore   \n",
       "112089  Royal Challengers Bangalore          Sunrisers Hyderabad  Bangalore   \n",
       "112090  Royal Challengers Bangalore          Sunrisers Hyderabad  Bangalore   \n",
       "112091  Royal Challengers Bangalore          Sunrisers Hyderabad  Bangalore   \n",
       "112092  Royal Challengers Bangalore          Sunrisers Hyderabad  Bangalore   \n",
       "\n",
       "        runs_left  balls_left  wickets_left  total_runs_x  cur_run_rate  \\\n",
       "0             222         119            10           223      1.791759   \n",
       "1             222         118            10           223      1.098612   \n",
       "2             221         117            10           223      1.386294   \n",
       "3             221         116            10           223      1.098612   \n",
       "4             221         115            10           223      0.875469   \n",
       "...           ...         ...           ...           ...           ...   \n",
       "112088       -150          34             0           209      3.220735   \n",
       "112089       -151          33             0           209      3.211955   \n",
       "112090       -151          32             0           209      3.200527   \n",
       "112091       -157          31             0           209      3.205756   \n",
       "112092       -157          30             0           209      3.194583   \n",
       "\n",
       "        req_run_rate  result  \n",
       "0          11.193277       1  \n",
       "1          11.288136       1  \n",
       "2          11.333333       1  \n",
       "3          11.431034       1  \n",
       "4          11.530435       1  \n",
       "...              ...     ...  \n",
       "112088    -26.470588       0  \n",
       "112089    -27.454545       0  \n",
       "112090    -28.312500       0  \n",
       "112091    -30.387097       0  \n",
       "112092    -31.400000       0  \n",
       "\n",
       "[91255 rows x 10 columns]"
      ]
     },
     "execution_count": 95,
     "metadata": {},
     "output_type": "execute_result"
    }
   ],
   "source": [
    "df"
   ]
  },
  {
   "cell_type": "code",
   "execution_count": 96,
   "id": "cfe52ef4",
   "metadata": {},
   "outputs": [],
   "source": [
    "le=LabelEncoder()"
   ]
  },
  {
   "cell_type": "code",
   "execution_count": 97,
   "id": "5c226301",
   "metadata": {},
   "outputs": [
    {
     "name": "stderr",
     "output_type": "stream",
     "text": [
      "C:\\Users\\himanshu\\AppData\\Local\\Temp\\ipykernel_30928\\3896506699.py:1: SettingWithCopyWarning: \n",
      "A value is trying to be set on a copy of a slice from a DataFrame.\n",
      "Try using .loc[row_indexer,col_indexer] = value instead\n",
      "\n",
      "See the caveats in the documentation: https://pandas.pydata.org/pandas-docs/stable/user_guide/indexing.html#returning-a-view-versus-a-copy\n",
      "  df['batting_team']=le.fit_transform(df['batting_team'])\n"
     ]
    }
   ],
   "source": [
    "df['batting_team']=le.fit_transform(df['batting_team'])\n"
   ]
  },
  {
   "cell_type": "code",
   "execution_count": 98,
   "id": "c09110f1",
   "metadata": {},
   "outputs": [
    {
     "name": "stderr",
     "output_type": "stream",
     "text": [
      "C:\\Users\\himanshu\\AppData\\Local\\Temp\\ipykernel_30928\\3632912560.py:1: SettingWithCopyWarning: \n",
      "A value is trying to be set on a copy of a slice from a DataFrame.\n",
      "Try using .loc[row_indexer,col_indexer] = value instead\n",
      "\n",
      "See the caveats in the documentation: https://pandas.pydata.org/pandas-docs/stable/user_guide/indexing.html#returning-a-view-versus-a-copy\n",
      "  df['bowling_team']=le.fit_transform(df['bowling_team'])\n"
     ]
    }
   ],
   "source": [
    "df['bowling_team']=le.fit_transform(df['bowling_team'])"
   ]
  },
  {
   "cell_type": "code",
   "execution_count": 99,
   "id": "69bf7137",
   "metadata": {},
   "outputs": [
    {
     "name": "stderr",
     "output_type": "stream",
     "text": [
      "C:\\Users\\himanshu\\AppData\\Local\\Temp\\ipykernel_30928\\4177283978.py:1: SettingWithCopyWarning: \n",
      "A value is trying to be set on a copy of a slice from a DataFrame.\n",
      "Try using .loc[row_indexer,col_indexer] = value instead\n",
      "\n",
      "See the caveats in the documentation: https://pandas.pydata.org/pandas-docs/stable/user_guide/indexing.html#returning-a-view-versus-a-copy\n",
      "  df['city']=le.fit_transform(df['city'])\n"
     ]
    }
   ],
   "source": [
    "df['city']=le.fit_transform(df['city'])"
   ]
  },
  {
   "cell_type": "code",
   "execution_count": 100,
   "id": "661dabd4",
   "metadata": {},
   "outputs": [
    {
     "data": {
      "text/html": [
       "<div>\n",
       "<style scoped>\n",
       "    .dataframe tbody tr th:only-of-type {\n",
       "        vertical-align: middle;\n",
       "    }\n",
       "\n",
       "    .dataframe tbody tr th {\n",
       "        vertical-align: top;\n",
       "    }\n",
       "\n",
       "    .dataframe thead th {\n",
       "        text-align: right;\n",
       "    }\n",
       "</style>\n",
       "<table border=\"1\" class=\"dataframe\">\n",
       "  <thead>\n",
       "    <tr style=\"text-align: right;\">\n",
       "      <th></th>\n",
       "      <th>batting_team</th>\n",
       "      <th>bowling_team</th>\n",
       "      <th>city</th>\n",
       "      <th>runs_left</th>\n",
       "      <th>balls_left</th>\n",
       "      <th>wickets_left</th>\n",
       "      <th>total_runs_x</th>\n",
       "      <th>cur_run_rate</th>\n",
       "      <th>req_run_rate</th>\n",
       "      <th>result</th>\n",
       "    </tr>\n",
       "  </thead>\n",
       "  <tbody>\n",
       "    <tr>\n",
       "      <th>0</th>\n",
       "      <td>4</td>\n",
       "      <td>7</td>\n",
       "      <td>2</td>\n",
       "      <td>222</td>\n",
       "      <td>119</td>\n",
       "      <td>10</td>\n",
       "      <td>223</td>\n",
       "      <td>1.791759</td>\n",
       "      <td>11.193277</td>\n",
       "      <td>1</td>\n",
       "    </tr>\n",
       "    <tr>\n",
       "      <th>1</th>\n",
       "      <td>4</td>\n",
       "      <td>7</td>\n",
       "      <td>2</td>\n",
       "      <td>222</td>\n",
       "      <td>118</td>\n",
       "      <td>10</td>\n",
       "      <td>223</td>\n",
       "      <td>1.098612</td>\n",
       "      <td>11.288136</td>\n",
       "      <td>1</td>\n",
       "    </tr>\n",
       "    <tr>\n",
       "      <th>2</th>\n",
       "      <td>4</td>\n",
       "      <td>7</td>\n",
       "      <td>2</td>\n",
       "      <td>221</td>\n",
       "      <td>117</td>\n",
       "      <td>10</td>\n",
       "      <td>223</td>\n",
       "      <td>1.386294</td>\n",
       "      <td>11.333333</td>\n",
       "      <td>1</td>\n",
       "    </tr>\n",
       "    <tr>\n",
       "      <th>3</th>\n",
       "      <td>4</td>\n",
       "      <td>7</td>\n",
       "      <td>2</td>\n",
       "      <td>221</td>\n",
       "      <td>116</td>\n",
       "      <td>10</td>\n",
       "      <td>223</td>\n",
       "      <td>1.098612</td>\n",
       "      <td>11.431034</td>\n",
       "      <td>1</td>\n",
       "    </tr>\n",
       "    <tr>\n",
       "      <th>4</th>\n",
       "      <td>4</td>\n",
       "      <td>7</td>\n",
       "      <td>2</td>\n",
       "      <td>221</td>\n",
       "      <td>115</td>\n",
       "      <td>10</td>\n",
       "      <td>223</td>\n",
       "      <td>0.875469</td>\n",
       "      <td>11.530435</td>\n",
       "      <td>1</td>\n",
       "    </tr>\n",
       "    <tr>\n",
       "      <th>...</th>\n",
       "      <td>...</td>\n",
       "      <td>...</td>\n",
       "      <td>...</td>\n",
       "      <td>...</td>\n",
       "      <td>...</td>\n",
       "      <td>...</td>\n",
       "      <td>...</td>\n",
       "      <td>...</td>\n",
       "      <td>...</td>\n",
       "      <td>...</td>\n",
       "    </tr>\n",
       "    <tr>\n",
       "      <th>112088</th>\n",
       "      <td>7</td>\n",
       "      <td>8</td>\n",
       "      <td>2</td>\n",
       "      <td>-150</td>\n",
       "      <td>34</td>\n",
       "      <td>0</td>\n",
       "      <td>209</td>\n",
       "      <td>3.220735</td>\n",
       "      <td>-26.470588</td>\n",
       "      <td>0</td>\n",
       "    </tr>\n",
       "    <tr>\n",
       "      <th>112089</th>\n",
       "      <td>7</td>\n",
       "      <td>8</td>\n",
       "      <td>2</td>\n",
       "      <td>-151</td>\n",
       "      <td>33</td>\n",
       "      <td>0</td>\n",
       "      <td>209</td>\n",
       "      <td>3.211955</td>\n",
       "      <td>-27.454545</td>\n",
       "      <td>0</td>\n",
       "    </tr>\n",
       "    <tr>\n",
       "      <th>112090</th>\n",
       "      <td>7</td>\n",
       "      <td>8</td>\n",
       "      <td>2</td>\n",
       "      <td>-151</td>\n",
       "      <td>32</td>\n",
       "      <td>0</td>\n",
       "      <td>209</td>\n",
       "      <td>3.200527</td>\n",
       "      <td>-28.312500</td>\n",
       "      <td>0</td>\n",
       "    </tr>\n",
       "    <tr>\n",
       "      <th>112091</th>\n",
       "      <td>7</td>\n",
       "      <td>8</td>\n",
       "      <td>2</td>\n",
       "      <td>-157</td>\n",
       "      <td>31</td>\n",
       "      <td>0</td>\n",
       "      <td>209</td>\n",
       "      <td>3.205756</td>\n",
       "      <td>-30.387097</td>\n",
       "      <td>0</td>\n",
       "    </tr>\n",
       "    <tr>\n",
       "      <th>112092</th>\n",
       "      <td>7</td>\n",
       "      <td>8</td>\n",
       "      <td>2</td>\n",
       "      <td>-157</td>\n",
       "      <td>30</td>\n",
       "      <td>0</td>\n",
       "      <td>209</td>\n",
       "      <td>3.194583</td>\n",
       "      <td>-31.400000</td>\n",
       "      <td>0</td>\n",
       "    </tr>\n",
       "  </tbody>\n",
       "</table>\n",
       "<p>91255 rows × 10 columns</p>\n",
       "</div>"
      ],
      "text/plain": [
       "        batting_team  bowling_team  city  runs_left  balls_left  wickets_left  \\\n",
       "0                  4             7     2        222         119            10   \n",
       "1                  4             7     2        222         118            10   \n",
       "2                  4             7     2        221         117            10   \n",
       "3                  4             7     2        221         116            10   \n",
       "4                  4             7     2        221         115            10   \n",
       "...              ...           ...   ...        ...         ...           ...   \n",
       "112088             7             8     2       -150          34             0   \n",
       "112089             7             8     2       -151          33             0   \n",
       "112090             7             8     2       -151          32             0   \n",
       "112091             7             8     2       -157          31             0   \n",
       "112092             7             8     2       -157          30             0   \n",
       "\n",
       "        total_runs_x  cur_run_rate  req_run_rate  result  \n",
       "0                223      1.791759     11.193277       1  \n",
       "1                223      1.098612     11.288136       1  \n",
       "2                223      1.386294     11.333333       1  \n",
       "3                223      1.098612     11.431034       1  \n",
       "4                223      0.875469     11.530435       1  \n",
       "...              ...           ...           ...     ...  \n",
       "112088           209      3.220735    -26.470588       0  \n",
       "112089           209      3.211955    -27.454545       0  \n",
       "112090           209      3.200527    -28.312500       0  \n",
       "112091           209      3.205756    -30.387097       0  \n",
       "112092           209      3.194583    -31.400000       0  \n",
       "\n",
       "[91255 rows x 10 columns]"
      ]
     },
     "execution_count": 100,
     "metadata": {},
     "output_type": "execute_result"
    }
   ],
   "source": [
    "df"
   ]
  },
  {
   "cell_type": "code",
   "execution_count": 101,
   "id": "d5f3a4f9",
   "metadata": {},
   "outputs": [
    {
     "data": {
      "text/plain": [
       "0    53244\n",
       "1    38011\n",
       "Name: result, dtype: int64"
      ]
     },
     "execution_count": 101,
     "metadata": {},
     "output_type": "execute_result"
    }
   ],
   "source": [
    "df['result'].value_counts()"
   ]
  },
  {
   "cell_type": "code",
   "execution_count": 102,
   "id": "1ad29aca",
   "metadata": {},
   "outputs": [
    {
     "name": "stderr",
     "output_type": "stream",
     "text": [
      "C:\\Users\\himanshu\\anaconda3\\lib\\site-packages\\seaborn\\_decorators.py:36: FutureWarning: Pass the following variable as a keyword arg: x. From version 0.12, the only valid positional argument will be `data`, and passing other arguments without an explicit keyword will result in an error or misinterpretation.\n",
      "  warnings.warn(\n"
     ]
    },
    {
     "data": {
      "text/plain": [
       "<AxesSubplot:xlabel='result', ylabel='count'>"
      ]
     },
     "execution_count": 102,
     "metadata": {},
     "output_type": "execute_result"
    },
    {
     "data": {
      "image/png": "[encoded data removed]",
      "text/plain": [
       "<Figure size 432x288 with 1 Axes>"
      ]
     },
     "metadata": {
      "needs_background": "light"
     },
     "output_type": "display_data"
    }
   ],
   "source": [
    "sns.countplot(df['result'])"
   ]
  },
  {
   "cell_type": "code",
   "execution_count": 103,
   "id": "dd69737b",
   "metadata": {},
   "outputs": [],
   "source": [
    "y=df['result']"
   ]
  },
  {
   "cell_type": "code",
   "execution_count": 104,
   "id": "f9d84d1c",
   "metadata": {},
   "outputs": [],
   "source": [
    "X=df.drop('result',axis=1)"
   ]
  },
  {
   "cell_type": "code",
   "execution_count": 105,
   "id": "a8471be3",
   "metadata": {},
   "outputs": [],
   "source": [
    "from imblearn.over_sampling import SMOTE"
   ]
  },
  {
   "cell_type": "code",
   "execution_count": 106,
   "id": "259b54b8",
   "metadata": {},
   "outputs": [],
   "source": [
    "smote=SMOTE(sampling_strategy='minority')"
   ]
  },
  {
   "cell_type": "code",
   "execution_count": 107,
   "id": "cfe707a7",
   "metadata": {},
   "outputs": [],
   "source": [
    "X,y=smote.fit_resample(X,y)\n"
   ]
  },
  {
   "cell_type": "code",
   "execution_count": 108,
   "id": "b0baf1de",
   "metadata": {},
   "outputs": [],
   "source": [
    "sc=StandardScaler()"
   ]
  },
  {
   "cell_type": "code",
   "execution_count": 109,
   "id": "32d63f40",
   "metadata": {},
   "outputs": [],
   "source": [
    "X=sc.fit_transform(X)\n"
   ]
  },
  {
   "cell_type": "code",
   "execution_count": 110,
   "id": "fd626963",
   "metadata": {},
   "outputs": [],
   "source": [
    "X_train, X_test, y_train, y_test = train_test_split(X, y, test_size=0.20, random_state=42)"
   ]
  },
  {
   "cell_type": "code",
   "execution_count": 111,
   "id": "97528319",
   "metadata": {},
   "outputs": [
    {
     "data": {
      "text/plain": [
       "(85190, 9)"
      ]
     },
     "execution_count": 111,
     "metadata": {},
     "output_type": "execute_result"
    }
   ],
   "source": [
    "X_train.shape"
   ]
  },
  {
   "cell_type": "code",
   "execution_count": 112,
   "id": "4e5d6eed",
   "metadata": {},
   "outputs": [
    {
     "data": {
      "text/plain": [
       "(21298, 9)"
      ]
     },
     "execution_count": 112,
     "metadata": {},
     "output_type": "execute_result"
    }
   ],
   "source": [
    "X_test.shape"
   ]
  },
  {
   "cell_type": "markdown",
   "id": "ae2f4520",
   "metadata": {},
   "source": [
    "# LogisticRegression"
   ]
  },
  {
   "cell_type": "code",
   "execution_count": 113,
   "id": "ce23663e",
   "metadata": {},
   "outputs": [],
   "source": [
    "lr=LogisticRegression()"
   ]
  },
  {
   "cell_type": "code",
   "execution_count": 114,
   "id": "b12a8b17",
   "metadata": {},
   "outputs": [
    {
     "data": {
      "text/plain": [
       "LogisticRegression()"
      ]
     },
     "execution_count": 114,
     "metadata": {},
     "output_type": "execute_result"
    }
   ],
   "source": [
    "lr.fit(X_train,y_train)"
   ]
  },
  {
   "cell_type": "code",
   "execution_count": 115,
   "id": "44821620",
   "metadata": {},
   "outputs": [],
   "source": [
    "y_pred=lr.predict(X_train)\n"
   ]
  },
  {
   "cell_type": "code",
   "execution_count": 116,
   "id": "cc83713e",
   "metadata": {},
   "outputs": [
    {
     "data": {
      "text/plain": [
       "array([0, 1, 0, ..., 1, 0, 1], dtype=int64)"
      ]
     },
     "execution_count": 116,
     "metadata": {},
     "output_type": "execute_result"
    }
   ],
   "source": [
    "y_pred"
   ]
  },
  {
   "cell_type": "code",
   "execution_count": 117,
   "id": "a7daebec",
   "metadata": {},
   "outputs": [
    {
     "data": {
      "text/plain": [
       "0.6071017725085104"
      ]
     },
     "execution_count": 117,
     "metadata": {},
     "output_type": "execute_result"
    }
   ],
   "source": [
    "accuracy_score(y_train,y_pred)"
   ]
  },
  {
   "cell_type": "code",
   "execution_count": 118,
   "id": "457cb3aa",
   "metadata": {},
   "outputs": [],
   "source": [
    "y_pred=lr.predict(X_test)\n"
   ]
  },
  {
   "cell_type": "code",
   "execution_count": 119,
   "id": "708ffcba",
   "metadata": {},
   "outputs": [
    {
     "data": {
      "text/plain": [
       "array([1, 0, 0, ..., 1, 1, 0], dtype=int64)"
      ]
     },
     "execution_count": 119,
     "metadata": {},
     "output_type": "execute_result"
    }
   ],
   "source": [
    "y_pred"
   ]
  },
  {
   "cell_type": "code",
   "execution_count": 120,
   "id": "e8bb0f79",
   "metadata": {},
   "outputs": [
    {
     "data": {
      "text/plain": [
       "0.6040003756221242"
      ]
     },
     "execution_count": 120,
     "metadata": {},
     "output_type": "execute_result"
    }
   ],
   "source": [
    "accuracy_score(y_test,y_pred)"
   ]
  },
  {
   "cell_type": "code",
   "execution_count": 121,
   "id": "c8a6602e",
   "metadata": {},
   "outputs": [],
   "source": [
    "cm=confusion_matrix(y_test,y_pred)"
   ]
  },
  {
   "cell_type": "code",
   "execution_count": 122,
   "id": "b2571bcc",
   "metadata": {},
   "outputs": [
    {
     "data": {
      "image/png": "[encoded data removed]",
      "text/plain": [
       "<Figure size 432x288 with 2 Axes>"
      ]
     },
     "metadata": {
      "needs_background": "light"
     },
     "output_type": "display_data"
    }
   ],
   "source": [
    "sns.heatmap(data=cm,fmt='d',annot=True)\n",
    "plt.show()"
   ]
  },
  {
   "cell_type": "code",
   "execution_count": 123,
   "id": "3e451df3",
   "metadata": {},
   "outputs": [],
   "source": [
    "KF=KFold(5)\n"
   ]
  },
  {
   "cell_type": "code",
   "execution_count": 124,
   "id": "701c9958",
   "metadata": {},
   "outputs": [],
   "source": [
    "scores=cross_val_score(lr,X_test,y_test,cv=KF)"
   ]
  },
  {
   "cell_type": "code",
   "execution_count": 125,
   "id": "81d5414a",
   "metadata": {},
   "outputs": [
    {
     "name": "stdout",
     "output_type": "stream",
     "text": [
      "0 0.604225352112676\n",
      "1 0.606338028169014\n",
      "2 0.5964788732394366\n",
      "3 0.6184550363935196\n",
      "4 0.6013148626438131\n"
     ]
    }
   ],
   "source": [
    "for index,value in enumerate(scores):\n",
    "    print(index,value)"
   ]
  },
  {
   "cell_type": "code",
   "execution_count": 126,
   "id": "9ae33348",
   "metadata": {},
   "outputs": [
    {
     "data": {
      "text/plain": [
       "0.6053624305116919"
      ]
     },
     "execution_count": 126,
     "metadata": {},
     "output_type": "execute_result"
    }
   ],
   "source": [
    "scores.mean()"
   ]
  },
  {
   "cell_type": "code",
   "execution_count": 127,
   "id": "0af18d47",
   "metadata": {},
   "outputs": [
    {
     "name": "stdout",
     "output_type": "stream",
     "text": [
      "              precision    recall  f1-score   support\n",
      "\n",
      "           0       0.61      0.58      0.60     10770\n",
      "           1       0.59      0.63      0.61     10528\n",
      "\n",
      "    accuracy                           0.60     21298\n",
      "   macro avg       0.60      0.60      0.60     21298\n",
      "weighted avg       0.60      0.60      0.60     21298\n",
      "\n"
     ]
    }
   ],
   "source": [
    "print(classification_report(y_test,y_pred))"
   ]
  },
  {
   "cell_type": "markdown",
   "id": "c610f5de",
   "metadata": {},
   "source": [
    "# XGBClassifier"
   ]
  },
  {
   "cell_type": "code",
   "execution_count": 128,
   "id": "0d1c86a3",
   "metadata": {},
   "outputs": [],
   "source": [
    "xgb_i=xgb.XGBClassifier()"
   ]
  },
  {
   "cell_type": "code",
   "execution_count": 129,
   "id": "c264c5bb",
   "metadata": {},
   "outputs": [
    {
     "data": {
      "text/plain": [
       "XGBClassifier(base_score=None, booster=None, callbacks=None,\n",
       "              colsample_bylevel=None, colsample_bynode=None,\n",
       "              colsample_bytree=None, early_stopping_rounds=None,\n",
       "              enable_categorical=False, eval_metric=None, feature_types=None,\n",
       "              gamma=None, gpu_id=None, grow_policy=None, importance_type=None,\n",
       "              interaction_constraints=None, learning_rate=None, max_bin=None,\n",
       "              max_cat_threshold=None, max_cat_to_onehot=None,\n",
       "              max_delta_step=None, max_depth=None, max_leaves=None,\n",
       "              min_child_weight=None, missing=nan, monotone_constraints=None,\n",
       "              n_estimators=100, n_jobs=None, num_parallel_tree=None,\n",
       "              predictor=None, random_state=None, ...)"
      ]
     },
     "execution_count": 129,
     "metadata": {},
     "output_type": "execute_result"
    }
   ],
   "source": [
    "xgb_i.fit(X_train,y_train)"
   ]
  },
  {
   "cell_type": "code",
   "execution_count": 130,
   "id": "47de25e5",
   "metadata": {},
   "outputs": [],
   "source": [
    "y_pred=xgb_i.predict(X_train)\n"
   ]
  },
  {
   "cell_type": "code",
   "execution_count": 131,
   "id": "5cbfdd63",
   "metadata": {},
   "outputs": [
    {
     "data": {
      "text/plain": [
       "array([1, 1, 1, ..., 1, 0, 0])"
      ]
     },
     "execution_count": 131,
     "metadata": {},
     "output_type": "execute_result"
    }
   ],
   "source": [
    "y_pred"
   ]
  },
  {
   "cell_type": "code",
   "execution_count": 132,
   "id": "0ac93237",
   "metadata": {},
   "outputs": [
    {
     "data": {
      "text/plain": [
       "0.9983331376922174"
      ]
     },
     "execution_count": 132,
     "metadata": {},
     "output_type": "execute_result"
    }
   ],
   "source": [
    "accuracy_score(y_train,y_pred)"
   ]
  },
  {
   "cell_type": "code",
   "execution_count": 133,
   "id": "5ff68793",
   "metadata": {},
   "outputs": [],
   "source": [
    "y_pred=xgb_i.predict(X_test)\n"
   ]
  },
  {
   "cell_type": "code",
   "execution_count": 134,
   "id": "400dc3a9",
   "metadata": {},
   "outputs": [
    {
     "data": {
      "text/plain": [
       "array([1, 0, 1, ..., 1, 1, 0])"
      ]
     },
     "execution_count": 134,
     "metadata": {},
     "output_type": "execute_result"
    }
   ],
   "source": [
    "y_pred"
   ]
  },
  {
   "cell_type": "code",
   "execution_count": 135,
   "id": "40822c8f",
   "metadata": {},
   "outputs": [
    {
     "data": {
      "text/plain": [
       "0.9978401727861771"
      ]
     },
     "execution_count": 135,
     "metadata": {},
     "output_type": "execute_result"
    }
   ],
   "source": [
    "accuracy_score(y_test,y_pred)"
   ]
  },
  {
   "cell_type": "code",
   "execution_count": 136,
   "id": "d736f484",
   "metadata": {},
   "outputs": [],
   "source": [
    "cm=confusion_matrix(y_test,y_pred)"
   ]
  },
  {
   "cell_type": "code",
   "execution_count": 137,
   "id": "84be7d69",
   "metadata": {},
   "outputs": [
    {
     "data": {
      "image/png": "[encoded data removed]",
      "text/plain": [
       "<Figure size 432x288 with 2 Axes>"
      ]
     },
     "metadata": {
      "needs_background": "light"
     },
     "output_type": "display_data"
    }
   ],
   "source": [
    "sns.heatmap(data=cm,fmt='d',annot=True)\n",
    "plt.show()"
   ]
  },
  {
   "cell_type": "code",
   "execution_count": 138,
   "id": "6a3b1aae",
   "metadata": {},
   "outputs": [],
   "source": [
    "KF=KFold(5)\n"
   ]
  },
  {
   "cell_type": "code",
   "execution_count": 139,
   "id": "05bd00c1",
   "metadata": {},
   "outputs": [],
   "source": [
    "scores=cross_val_score(xgb_i,X_test,y_test,cv=KF)"
   ]
  },
  {
   "cell_type": "code",
   "execution_count": 140,
   "id": "1578c51e",
   "metadata": {},
   "outputs": [
    {
     "name": "stdout",
     "output_type": "stream",
     "text": [
      "0 0.9936619718309859\n",
      "1 0.9931924882629108\n",
      "2 0.9906103286384976\n",
      "3 0.9955388588870627\n",
      "4 0.9908429208734445\n"
     ]
    }
   ],
   "source": [
    "for index,value in enumerate(scores):\n",
    "    print(index,value)"
   ]
  },
  {
   "cell_type": "code",
   "execution_count": 141,
   "id": "b4d57401",
   "metadata": {},
   "outputs": [
    {
     "data": {
      "text/plain": [
       "0.9927693136985803"
      ]
     },
     "execution_count": 141,
     "metadata": {},
     "output_type": "execute_result"
    }
   ],
   "source": [
    "scores.mean()"
   ]
  },
  {
   "cell_type": "code",
   "execution_count": 142,
   "id": "62101aeb",
   "metadata": {},
   "outputs": [
    {
     "name": "stdout",
     "output_type": "stream",
     "text": [
      "              precision    recall  f1-score   support\n",
      "\n",
      "           0       1.00      1.00      1.00     10770\n",
      "           1       1.00      1.00      1.00     10528\n",
      "\n",
      "    accuracy                           1.00     21298\n",
      "   macro avg       1.00      1.00      1.00     21298\n",
      "weighted avg       1.00      1.00      1.00     21298\n",
      "\n"
     ]
    }
   ],
   "source": [
    "print(classification_report(y_test,y_pred))"
   ]
  },
  {
   "cell_type": "markdown",
   "id": "98172c92",
   "metadata": {},
   "source": [
    "# RandomForestClassifier"
   ]
  },
  {
   "cell_type": "code",
   "execution_count": 143,
   "id": "02c05463",
   "metadata": {},
   "outputs": [],
   "source": [
    "rfc=RandomForestClassifier()"
   ]
  },
  {
   "cell_type": "code",
   "execution_count": 144,
   "id": "de23823e",
   "metadata": {},
   "outputs": [
    {
     "data": {
      "text/plain": [
       "RandomForestClassifier()"
      ]
     },
     "execution_count": 144,
     "metadata": {},
     "output_type": "execute_result"
    }
   ],
   "source": [
    "rfc.fit(X_train,y_train)"
   ]
  },
  {
   "cell_type": "code",
   "execution_count": 145,
   "id": "4c2a3dbc",
   "metadata": {},
   "outputs": [],
   "source": [
    "y_pred=rfc.predict(X_train)\n"
   ]
  },
  {
   "cell_type": "code",
   "execution_count": 146,
   "id": "3994ca83",
   "metadata": {},
   "outputs": [
    {
     "data": {
      "text/plain": [
       "array([1, 1, 1, ..., 1, 0, 0], dtype=int64)"
      ]
     },
     "execution_count": 146,
     "metadata": {},
     "output_type": "execute_result"
    }
   ],
   "source": [
    "y_pred"
   ]
  },
  {
   "cell_type": "code",
   "execution_count": 147,
   "id": "4493561a",
   "metadata": {},
   "outputs": [
    {
     "data": {
      "text/plain": [
       "0.9999530461321752"
      ]
     },
     "execution_count": 147,
     "metadata": {},
     "output_type": "execute_result"
    }
   ],
   "source": [
    "accuracy_score(y_train,y_pred)"
   ]
  },
  {
   "cell_type": "code",
   "execution_count": 148,
   "id": "84e19622",
   "metadata": {},
   "outputs": [],
   "source": [
    "y_pred=rfc.predict(X_test)\n"
   ]
  },
  {
   "cell_type": "code",
   "execution_count": 149,
   "id": "b63e651f",
   "metadata": {},
   "outputs": [
    {
     "data": {
      "text/plain": [
       "array([1, 0, 1, ..., 1, 1, 0], dtype=int64)"
      ]
     },
     "execution_count": 149,
     "metadata": {},
     "output_type": "execute_result"
    }
   ],
   "source": [
    "y_pred"
   ]
  },
  {
   "cell_type": "code",
   "execution_count": 150,
   "id": "0f5e4b4c",
   "metadata": {},
   "outputs": [
    {
     "data": {
      "text/plain": [
       "0.9988731336275707"
      ]
     },
     "execution_count": 150,
     "metadata": {},
     "output_type": "execute_result"
    }
   ],
   "source": [
    "accuracy_score(y_test,y_pred)"
   ]
  },
  {
   "cell_type": "code",
   "execution_count": 151,
   "id": "77dda613",
   "metadata": {},
   "outputs": [],
   "source": [
    "cm=confusion_matrix(y_test,y_pred)"
   ]
  },
  {
   "cell_type": "code",
   "execution_count": 152,
   "id": "c5d71261",
   "metadata": {},
   "outputs": [
    {
     "data": {
      "image/png": "[encoded data removed]",
      "text/plain": [
       "<Figure size 432x288 with 2 Axes>"
      ]
     },
     "metadata": {
      "needs_background": "light"
     },
     "output_type": "display_data"
    }
   ],
   "source": [
    "sns.heatmap(data=cm,fmt='d',annot=True)\n",
    "plt.show()"
   ]
  },
  {
   "cell_type": "code",
   "execution_count": 153,
   "id": "cddf2ab9",
   "metadata": {},
   "outputs": [],
   "source": [
    "KF=KFold(5)\n"
   ]
  },
  {
   "cell_type": "code",
   "execution_count": 154,
   "id": "831ad6bf",
   "metadata": {},
   "outputs": [],
   "source": [
    "scores=cross_val_score(rfc,X_test,y_test,cv=KF)"
   ]
  },
  {
   "cell_type": "code",
   "execution_count": 155,
   "id": "4d670831",
   "metadata": {},
   "outputs": [
    {
     "name": "stdout",
     "output_type": "stream",
     "text": [
      "0 0.9924882629107982\n",
      "1 0.992018779342723\n",
      "2 0.9901408450704225\n",
      "3 0.9934256867809345\n",
      "4 0.9922517022775299\n"
     ]
    }
   ],
   "source": [
    "for index,value in enumerate(scores):\n",
    "    print(index,value)"
   ]
  },
  {
   "cell_type": "code",
   "execution_count": 156,
   "id": "a4127f95",
   "metadata": {},
   "outputs": [
    {
     "data": {
      "text/plain": [
       "0.9920650552764816"
      ]
     },
     "execution_count": 156,
     "metadata": {},
     "output_type": "execute_result"
    }
   ],
   "source": [
    "scores.mean()"
   ]
  },
  {
   "cell_type": "code",
   "execution_count": 157,
   "id": "5bc225e0",
   "metadata": {},
   "outputs": [
    {
     "name": "stdout",
     "output_type": "stream",
     "text": [
      "              precision    recall  f1-score   support\n",
      "\n",
      "           0       1.00      1.00      1.00     10770\n",
      "           1       1.00      1.00      1.00     10528\n",
      "\n",
      "    accuracy                           1.00     21298\n",
      "   macro avg       1.00      1.00      1.00     21298\n",
      "weighted avg       1.00      1.00      1.00     21298\n",
      "\n"
     ]
    }
   ],
   "source": [
    "print(classification_report(y_test,y_pred))"
   ]
  },
  {
   "cell_type": "markdown",
   "id": "0a234624",
   "metadata": {},
   "source": [
    "# KNeighborsClassifier"
   ]
  },
  {
   "cell_type": "code",
   "execution_count": 158,
   "id": "a02c90a1",
   "metadata": {},
   "outputs": [],
   "source": [
    "knc=KNeighborsClassifier()"
   ]
  },
  {
   "cell_type": "code",
   "execution_count": 159,
   "id": "625d15fe",
   "metadata": {},
   "outputs": [
    {
     "data": {
      "text/plain": [
       "KNeighborsClassifier()"
      ]
     },
     "execution_count": 159,
     "metadata": {},
     "output_type": "execute_result"
    }
   ],
   "source": [
    "knc.fit(X_train,y_train)"
   ]
  },
  {
   "cell_type": "code",
   "execution_count": 160,
   "id": "4bb61575",
   "metadata": {},
   "outputs": [],
   "source": [
    "y_pred=knc.predict(X_train)\n"
   ]
  },
  {
   "cell_type": "code",
   "execution_count": 161,
   "id": "a35b10c3",
   "metadata": {},
   "outputs": [
    {
     "data": {
      "text/plain": [
       "array([1, 1, 1, ..., 1, 0, 0], dtype=int64)"
      ]
     },
     "execution_count": 161,
     "metadata": {},
     "output_type": "execute_result"
    }
   ],
   "source": [
    "y_pred"
   ]
  },
  {
   "cell_type": "code",
   "execution_count": 162,
   "id": "e64dfd79",
   "metadata": {},
   "outputs": [
    {
     "data": {
      "text/plain": [
       "0.9958915365653246"
      ]
     },
     "execution_count": 162,
     "metadata": {},
     "output_type": "execute_result"
    }
   ],
   "source": [
    "accuracy_score(y_train,y_pred)"
   ]
  },
  {
   "cell_type": "code",
   "execution_count": 163,
   "id": "22d29f2e",
   "metadata": {},
   "outputs": [],
   "source": [
    "y_pred=knc.predict(X_test)\n"
   ]
  },
  {
   "cell_type": "code",
   "execution_count": 164,
   "id": "ceaba8f0",
   "metadata": {},
   "outputs": [
    {
     "data": {
      "text/plain": [
       "array([1, 0, 1, ..., 1, 1, 0], dtype=int64)"
      ]
     },
     "execution_count": 164,
     "metadata": {},
     "output_type": "execute_result"
    }
   ],
   "source": [
    "y_pred"
   ]
  },
  {
   "cell_type": "code",
   "execution_count": 165,
   "id": "53966696",
   "metadata": {},
   "outputs": [
    {
     "data": {
      "text/plain": [
       "0.9942248098412997"
      ]
     },
     "execution_count": 165,
     "metadata": {},
     "output_type": "execute_result"
    }
   ],
   "source": [
    "accuracy_score(y_test,y_pred)"
   ]
  },
  {
   "cell_type": "code",
   "execution_count": 166,
   "id": "15d77804",
   "metadata": {},
   "outputs": [],
   "source": [
    "cm=confusion_matrix(y_test,y_pred)"
   ]
  },
  {
   "cell_type": "code",
   "execution_count": 167,
   "id": "f9777d3d",
   "metadata": {},
   "outputs": [
    {
     "data": {
      "image/png": "[encoded data removed]",
      "text/plain": [
       "<Figure size 432x288 with 2 Axes>"
      ]
     },
     "metadata": {
      "needs_background": "light"
     },
     "output_type": "display_data"
    }
   ],
   "source": [
    "sns.heatmap(data=cm,fmt='d',annot=True)\n",
    "plt.show()"
   ]
  },
  {
   "cell_type": "code",
   "execution_count": 168,
   "id": "48f751f6",
   "metadata": {},
   "outputs": [],
   "source": [
    "KF=KFold(5)\n"
   ]
  },
  {
   "cell_type": "code",
   "execution_count": 169,
   "id": "3f93acf8",
   "metadata": {},
   "outputs": [],
   "source": [
    "scores=cross_val_score(knc,X_test,y_test,cv=KF)"
   ]
  },
  {
   "cell_type": "code",
   "execution_count": 170,
   "id": "eab20e13",
   "metadata": {},
   "outputs": [
    {
     "name": "stdout",
     "output_type": "stream",
     "text": [
      "0 0.9460093896713615\n",
      "1 0.9424882629107981\n",
      "2 0.9455399061032864\n",
      "3 0.9504578539563278\n",
      "4 0.9424747593331768\n"
     ]
    }
   ],
   "source": [
    "for index,value in enumerate(scores):\n",
    "    print(index,value)"
   ]
  },
  {
   "cell_type": "code",
   "execution_count": 171,
   "id": "a84125f2",
   "metadata": {},
   "outputs": [
    {
     "data": {
      "text/plain": [
       "0.94539403439499"
      ]
     },
     "execution_count": 171,
     "metadata": {},
     "output_type": "execute_result"
    }
   ],
   "source": [
    "scores.mean()"
   ]
  },
  {
   "cell_type": "code",
   "execution_count": 172,
   "id": "65d6dcf5",
   "metadata": {},
   "outputs": [
    {
     "name": "stdout",
     "output_type": "stream",
     "text": [
      "              precision    recall  f1-score   support\n",
      "\n",
      "           0       1.00      0.99      0.99     10770\n",
      "           1       0.99      1.00      0.99     10528\n",
      "\n",
      "    accuracy                           0.99     21298\n",
      "   macro avg       0.99      0.99      0.99     21298\n",
      "weighted avg       0.99      0.99      0.99     21298\n",
      "\n"
     ]
    }
   ],
   "source": [
    "print(classification_report(y_test,y_pred))"
   ]
  },
  {
   "cell_type": "markdown",
   "id": "e76b3447",
   "metadata": {},
   "source": [
    "# Neural Network"
   ]
  },
  {
   "cell_type": "code",
   "execution_count": 173,
   "id": "774dcebe",
   "metadata": {},
   "outputs": [],
   "source": [
    "model=keras.Sequential([\n",
    "    keras.layers.Dense(30,input_shape=(9,),activation='relu'),\n",
    "    keras.layers.Dense(15,activation='relu'),\n",
    "    keras.layers.Dense(1,activation='sigmoid')\n",
    "])"
   ]
  },
  {
   "cell_type": "code",
   "execution_count": 174,
   "id": "86913723",
   "metadata": {},
   "outputs": [],
   "source": [
    "model.compile(\n",
    "optimizer='adam',\n",
    "    loss=\"binary_crossentropy\",\n",
    "    metrics=['accuracy'])"
   ]
  },
  {
   "cell_type": "code",
   "execution_count": 175,
   "id": "76c57d24",
   "metadata": {},
   "outputs": [
    {
     "name": "stdout",
     "output_type": "stream",
     "text": [
      "Epoch 1/10\n",
      "2663/2663 [==============================] - 5s 2ms/step - loss: 0.5473 - accuracy: 0.7198\n",
      "Epoch 2/10\n",
      "2663/2663 [==============================] - 5s 2ms/step - loss: 0.4561 - accuracy: 0.7899\n",
      "Epoch 3/10\n",
      "2663/2663 [==============================] - 4s 1ms/step - loss: 0.4029 - accuracy: 0.8148\n",
      "Epoch 4/10\n",
      "2663/2663 [==============================] - 5s 2ms/step - loss: 0.3690 - accuracy: 0.8311\n",
      "Epoch 5/10\n",
      "2663/2663 [==============================] - 4s 2ms/step - loss: 0.3468 - accuracy: 0.8405\n",
      "Epoch 6/10\n",
      "2663/2663 [==============================] - 4s 2ms/step - loss: 0.3306 - accuracy: 0.8502\n",
      "Epoch 7/10\n",
      "2663/2663 [==============================] - 5s 2ms/step - loss: 0.3144 - accuracy: 0.8597\n",
      "Epoch 8/10\n",
      "2663/2663 [==============================] - 5s 2ms/step - loss: 0.3029 - accuracy: 0.8684\n",
      "Epoch 9/10\n",
      "2663/2663 [==============================] - 5s 2ms/step - loss: 0.2911 - accuracy: 0.8763\n",
      "Epoch 10/10\n",
      "2663/2663 [==============================] - 5s 2ms/step - loss: 0.2811 - accuracy: 0.8831\n"
     ]
    },
    {
     "data": {
      "text/plain": [
       "<keras.callbacks.History at 0x20495988b50>"
      ]
     },
     "execution_count": 175,
     "metadata": {},
     "output_type": "execute_result"
    }
   ],
   "source": [
    "model.fit(X_train,y_train,epochs=10)"
   ]
  },
  {
   "cell_type": "code",
   "execution_count": 176,
   "id": "72628ab6",
   "metadata": {},
   "outputs": [
    {
     "name": "stdout",
     "output_type": "stream",
     "text": [
      "666/666 [==============================] - 1s 816us/step - loss: 0.2695 - accuracy: 0.8896\n"
     ]
    },
    {
     "data": {
      "text/plain": [
       "[0.2694849967956543, 0.8896140456199646]"
      ]
     },
     "execution_count": 176,
     "metadata": {},
     "output_type": "execute_result"
    }
   ],
   "source": [
    "model.evaluate(X_test,y_test)"
   ]
  },
  {
   "cell_type": "code",
   "execution_count": 177,
   "id": "ca2e8dee",
   "metadata": {},
   "outputs": [
    {
     "name": "stdout",
     "output_type": "stream",
     "text": [
      "666/666 [==============================] - 0s 553us/step\n"
     ]
    }
   ],
   "source": [
    "y_pred=model.predict(X_test)\n"
   ]
  },
  {
   "cell_type": "code",
   "execution_count": 178,
   "id": "7a98dfbd",
   "metadata": {},
   "outputs": [
    {
     "data": {
      "text/plain": [
       "array([[9.9073833e-01],\n",
       "       [1.5587477e-01],\n",
       "       [9.9936712e-01],\n",
       "       ...,\n",
       "       [8.1119460e-01],\n",
       "       [9.7167009e-01],\n",
       "       [3.3370004e-04]], dtype=float32)"
      ]
     },
     "execution_count": 178,
     "metadata": {},
     "output_type": "execute_result"
    }
   ],
   "source": [
    "y_pred"
   ]
  },
  {
   "cell_type": "code",
   "execution_count": 179,
   "id": "576fb726",
   "metadata": {},
   "outputs": [],
   "source": [
    "ypred=[]\n",
    "\n",
    "for i in y_pred:\n",
    "    if i>0.5:\n",
    "        ypred.append(1)\n",
    "    else:\n",
    "        ypred.append(0)\n",
    "        "
   ]
  },
  {
   "cell_type": "code",
   "execution_count": 180,
   "id": "2119c972",
   "metadata": {},
   "outputs": [
    {
     "data": {
      "text/plain": [
       "[1, 0, 1, 0, 1, 1, 1, 1, 1, 0]"
      ]
     },
     "execution_count": 180,
     "metadata": {},
     "output_type": "execute_result"
    }
   ],
   "source": [
    "ypred[:10]"
   ]
  },
  {
   "cell_type": "code",
   "execution_count": 181,
   "id": "c154051d",
   "metadata": {},
   "outputs": [
    {
     "data": {
      "text/plain": [
       "48690     1\n",
       "50628     0\n",
       "101180    1\n",
       "15808     0\n",
       "96215     1\n",
       "53181     1\n",
       "53999     1\n",
       "54156     1\n",
       "81764     1\n",
       "60358     0\n",
       "Name: result, dtype: int64"
      ]
     },
     "execution_count": 181,
     "metadata": {},
     "output_type": "execute_result"
    }
   ],
   "source": [
    "y_test[:10]"
   ]
  },
  {
   "cell_type": "code",
   "execution_count": 182,
   "id": "230d1384",
   "metadata": {},
   "outputs": [
    {
     "name": "stdout",
     "output_type": "stream",
     "text": [
      "              precision    recall  f1-score   support\n",
      "\n",
      "           0       0.91      0.86      0.89     10770\n",
      "           1       0.87      0.92      0.89     10528\n",
      "\n",
      "    accuracy                           0.89     21298\n",
      "   macro avg       0.89      0.89      0.89     21298\n",
      "weighted avg       0.89      0.89      0.89     21298\n",
      "\n"
     ]
    }
   ],
   "source": [
    "print(classification_report(y_test,ypred))"
   ]
  },
  {
   "cell_type": "code",
   "execution_count": 183,
   "id": "0d93c0d8",
   "metadata": {},
   "outputs": [],
   "source": [
    "cm=tf.math.confusion_matrix(labels=y_test,predictions=ypred)"
   ]
  },
  {
   "cell_type": "code",
   "execution_count": 184,
   "id": "30992094",
   "metadata": {},
   "outputs": [
    {
     "data": {
      "text/plain": [
       "<tf.Tensor: shape=(2, 2), dtype=int32, numpy=\n",
       "array([[9287, 1483],\n",
       "       [ 868, 9660]])>"
      ]
     },
     "execution_count": 184,
     "metadata": {},
     "output_type": "execute_result"
    }
   ],
   "source": [
    "cm"
   ]
  },
  {
   "cell_type": "code",
   "execution_count": 185,
   "id": "78e3d10a",
   "metadata": {},
   "outputs": [
    {
     "data": {
      "text/plain": [
       "<AxesSubplot:>"
      ]
     },
     "execution_count": 185,
     "metadata": {},
     "output_type": "execute_result"
    },
    {
     "data": {
      "image/png": "[encoded data removed]",
      "text/plain": [
       "<Figure size 432x288 with 2 Axes>"
      ]
     },
     "metadata": {
      "needs_background": "light"
     },
     "output_type": "display_data"
    }
   ],
   "source": [
    "sns.heatmap(data=cm,fmt='d',annot=True)"
   ]
  },
  {
   "cell_type": "code",
   "execution_count": null,
   "id": "340e1cbc",
   "metadata": {},
   "outputs": [],
   "source": []
  },
  {
   "cell_type": "code",
   "execution_count": null,
   "id": "40f9b001",
   "metadata": {},
   "outputs": [],
   "source": []
  }
 ],
 "metadata": {
  "kernelspec": {
   "display_name": "Python 3 (ipykernel)",
   "language": "python",
   "name": "python3"
  },
  "language_info": {
   "codemirror_mode": {
    "name": "ipython",
    "version": 3
   },
   "file_extension": ".py",
   "mimetype": "text/x-python",
   "name": "python",
   "nbconvert_exporter": "python",
   "pygments_lexer": "ipython3",
   "version": "3.9.12"
  }
 },
 "nbformat": 4,
 "nbformat_minor": 5
}
